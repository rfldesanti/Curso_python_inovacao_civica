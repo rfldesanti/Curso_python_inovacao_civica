{
 "cells": [
  {
   "cell_type": "markdown",
   "id": "32600998",
   "metadata": {},
   "source": [
    "# Exercício\n",
    "\n",
    "Construa um programa que:\n",
    " - Pergunte a usuária 2 números inteiros;\n",
    " - Crie uma lista numérica do intervalo;\n",
    " - Se o número for divisível por 3, substitua-o por \"Tecnologia\";\n",
    " - Se o número for divisível por 5, substitua-o por \"Cívica\";\n",
    " - Se o número for divisível por 3 e 5, substitua-o por \"Tecnologia Cívica\"."
   ]
  },
  {
   "cell_type": "code",
   "execution_count": 1,
   "id": "bd993319",
   "metadata": {},
   "outputs": [],
   "source": [
    "dict_a = {'a':1,'b':2,'c':3}"
   ]
  },
  {
   "cell_type": "code",
   "execution_count": 2,
   "id": "c196bd7c",
   "metadata": {},
   "outputs": [
    {
     "data": {
      "text/plain": [
       "['a', 'b', 'c']"
      ]
     },
     "execution_count": 2,
     "metadata": {},
     "output_type": "execute_result"
    }
   ],
   "source": [
    "list(dict_a)"
   ]
  },
  {
   "cell_type": "code",
   "execution_count": 5,
   "id": "73252198",
   "metadata": {},
   "outputs": [
    {
     "data": {
      "text/plain": [
       "'a'"
      ]
     },
     "execution_count": 5,
     "metadata": {},
     "output_type": "execute_result"
    }
   ],
   "source": [
    "list(dict_a)[0]"
   ]
  },
  {
   "cell_type": "code",
   "execution_count": 8,
   "id": "c13292bd",
   "metadata": {},
   "outputs": [
    {
     "data": {
      "text/plain": [
       "2"
      ]
     },
     "execution_count": 8,
     "metadata": {},
     "output_type": "execute_result"
    }
   ],
   "source": [
    "dict_a['b']"
   ]
  },
  {
   "cell_type": "code",
   "execution_count": 1,
   "id": "da12d4ee",
   "metadata": {},
   "outputs": [
    {
     "name": "stdout",
     "output_type": "stream",
     "text": [
      "Informe um número inteiro:27\n"
     ]
    }
   ],
   "source": [
    "num1 = int(input('Informe um número inteiro:'))"
   ]
  },
  {
   "cell_type": "code",
   "execution_count": 2,
   "id": "4c9d8673",
   "metadata": {},
   "outputs": [
    {
     "name": "stdout",
     "output_type": "stream",
     "text": [
      "Informe um número inteiro:55\n"
     ]
    }
   ],
   "source": [
    "num2 = int(input('Informe um número inteiro:'))"
   ]
  },
  {
   "cell_type": "code",
   "execution_count": 3,
   "id": "ad9d3f34",
   "metadata": {},
   "outputs": [],
   "source": [
    "lista_numerica = []"
   ]
  },
  {
   "cell_type": "code",
   "execution_count": 4,
   "id": "120f1ad2",
   "metadata": {},
   "outputs": [],
   "source": [
    "for n in range(num1, num2):\n",
    "    if n % 3 == 0 and n % 5 == 0:\n",
    "        lista_numerica.append('Tecnologia Cívica')\n",
    "    elif n % 3 == 0:\n",
    "        lista_numerica.append('Tecnologia')\n",
    "    elif n % 5 == 0:\n",
    "        lista_numerica.append('Cívica')\n",
    "    else:\n",
    "        lista_numerica.append(n)"
   ]
  },
  {
   "cell_type": "code",
   "execution_count": 5,
   "id": "960f4d16",
   "metadata": {},
   "outputs": [
    {
     "data": {
      "text/plain": [
       "[27,\n",
       " 28,\n",
       " 29,\n",
       " 30,\n",
       " 31,\n",
       " 32,\n",
       " 33,\n",
       " 34,\n",
       " 35,\n",
       " 36,\n",
       " 37,\n",
       " 38,\n",
       " 39,\n",
       " 40,\n",
       " 41,\n",
       " 42,\n",
       " 43,\n",
       " 44,\n",
       " 45,\n",
       " 46,\n",
       " 47,\n",
       " 48,\n",
       " 49,\n",
       " 50,\n",
       " 51,\n",
       " 52,\n",
       " 53,\n",
       " 54]"
      ]
     },
     "execution_count": 5,
     "metadata": {},
     "output_type": "execute_result"
    }
   ],
   "source": [
    "lista = list(range(num1, num2))\n",
    "lista"
   ]
  },
  {
   "cell_type": "code",
   "execution_count": 6,
   "id": "09ab4bd3",
   "metadata": {},
   "outputs": [
    {
     "data": {
      "text/plain": [
       "['Tecnologia',\n",
       " 28,\n",
       " 29,\n",
       " 'Tecnologia Cívica',\n",
       " 31,\n",
       " 32,\n",
       " 'Tecnologia',\n",
       " 34,\n",
       " 'Cívica',\n",
       " 'Tecnologia',\n",
       " 37,\n",
       " 38,\n",
       " 'Tecnologia',\n",
       " 'Cívica',\n",
       " 41,\n",
       " 'Tecnologia',\n",
       " 43,\n",
       " 44,\n",
       " 'Tecnologia Cívica',\n",
       " 46,\n",
       " 47,\n",
       " 'Tecnologia',\n",
       " 49,\n",
       " 'Cívica',\n",
       " 'Tecnologia',\n",
       " 52,\n",
       " 53,\n",
       " 'Tecnologia']"
      ]
     },
     "execution_count": 6,
     "metadata": {},
     "output_type": "execute_result"
    }
   ],
   "source": [
    "lista_numerica"
   ]
  },
  {
   "cell_type": "markdown",
   "id": "38a99f25",
   "metadata": {},
   "source": [
    "### Fazendo o mesmo exerício, porém utilizando funções para substituir os valores na lista"
   ]
  },
  {
   "cell_type": "code",
   "execution_count": 1,
   "id": "ba689dcf",
   "metadata": {},
   "outputs": [
    {
     "name": "stdout",
     "output_type": "stream",
     "text": [
      "Informe um valor inteiro:33\n"
     ]
    }
   ],
   "source": [
    "num3 = int(input('Informe um valor inteiro:'))"
   ]
  },
  {
   "cell_type": "code",
   "execution_count": 2,
   "id": "44df637d",
   "metadata": {},
   "outputs": [
    {
     "name": "stdout",
     "output_type": "stream",
     "text": [
      "Informe outro valor inteiro:155\n"
     ]
    }
   ],
   "source": [
    "num4 = int(input('Informe outro valor inteiro:'))"
   ]
  },
  {
   "cell_type": "code",
   "execution_count": 3,
   "id": "058460f5",
   "metadata": {},
   "outputs": [],
   "source": [
    "lista_numerica2 = list(range(num3, num4))"
   ]
  },
  {
   "cell_type": "code",
   "execution_count": 4,
   "id": "01896073",
   "metadata": {},
   "outputs": [
    {
     "data": {
      "text/plain": [
       "[33,\n",
       " 34,\n",
       " 35,\n",
       " 36,\n",
       " 37,\n",
       " 38,\n",
       " 39,\n",
       " 40,\n",
       " 41,\n",
       " 42,\n",
       " 43,\n",
       " 44,\n",
       " 45,\n",
       " 46,\n",
       " 47,\n",
       " 48,\n",
       " 49,\n",
       " 50,\n",
       " 51,\n",
       " 52,\n",
       " 53,\n",
       " 54,\n",
       " 55,\n",
       " 56,\n",
       " 57,\n",
       " 58,\n",
       " 59,\n",
       " 60,\n",
       " 61,\n",
       " 62,\n",
       " 63,\n",
       " 64,\n",
       " 65,\n",
       " 66,\n",
       " 67,\n",
       " 68,\n",
       " 69,\n",
       " 70,\n",
       " 71,\n",
       " 72,\n",
       " 73,\n",
       " 74,\n",
       " 75,\n",
       " 76,\n",
       " 77,\n",
       " 78,\n",
       " 79,\n",
       " 80,\n",
       " 81,\n",
       " 82,\n",
       " 83,\n",
       " 84,\n",
       " 85,\n",
       " 86,\n",
       " 87,\n",
       " 88,\n",
       " 89,\n",
       " 90,\n",
       " 91,\n",
       " 92,\n",
       " 93,\n",
       " 94,\n",
       " 95,\n",
       " 96,\n",
       " 97,\n",
       " 98,\n",
       " 99,\n",
       " 100,\n",
       " 101,\n",
       " 102,\n",
       " 103,\n",
       " 104,\n",
       " 105,\n",
       " 106,\n",
       " 107,\n",
       " 108,\n",
       " 109,\n",
       " 110,\n",
       " 111,\n",
       " 112,\n",
       " 113,\n",
       " 114,\n",
       " 115,\n",
       " 116,\n",
       " 117,\n",
       " 118,\n",
       " 119,\n",
       " 120,\n",
       " 121,\n",
       " 122,\n",
       " 123,\n",
       " 124,\n",
       " 125,\n",
       " 126,\n",
       " 127,\n",
       " 128,\n",
       " 129,\n",
       " 130,\n",
       " 131,\n",
       " 132,\n",
       " 133,\n",
       " 134,\n",
       " 135,\n",
       " 136,\n",
       " 137,\n",
       " 138,\n",
       " 139,\n",
       " 140,\n",
       " 141,\n",
       " 142,\n",
       " 143,\n",
       " 144,\n",
       " 145,\n",
       " 146,\n",
       " 147,\n",
       " 148,\n",
       " 149,\n",
       " 150,\n",
       " 151,\n",
       " 152,\n",
       " 153,\n",
       " 154]"
      ]
     },
     "execution_count": 4,
     "metadata": {},
     "output_type": "execute_result"
    }
   ],
   "source": [
    "lista_numerica2"
   ]
  },
  {
   "cell_type": "code",
   "execution_count": 5,
   "id": "5032c443",
   "metadata": {},
   "outputs": [],
   "source": [
    "for n in lista_numerica2:\n",
    "    pos = lista_numerica2.index(n)\n",
    "    #print(pos)\n",
    "    if n % 3 == 0 and n % 5 == 0:\n",
    "        lista_numerica2.pop(pos)\n",
    "        lista_numerica2.insert(pos,'Tecnologia Cívica')\n",
    "    elif n % 3 == 0:\n",
    "        lista_numerica2.pop(pos)\n",
    "        lista_numerica2.insert(pos,'Tecnologia')\n",
    "    elif n % 5 == 0:\n",
    "        lista_numerica2.pop(pos)\n",
    "        lista_numerica2.insert(pos,'Cívica')"
   ]
  },
  {
   "cell_type": "code",
   "execution_count": 6,
   "id": "a7f35f25",
   "metadata": {},
   "outputs": [
    {
     "data": {
      "text/plain": [
       "['Tecnologia',\n",
       " 34,\n",
       " 'Cívica',\n",
       " 'Tecnologia',\n",
       " 37,\n",
       " 38,\n",
       " 'Tecnologia',\n",
       " 'Cívica',\n",
       " 41,\n",
       " 'Tecnologia',\n",
       " 43,\n",
       " 44,\n",
       " 'Tecnologia Cívica',\n",
       " 46,\n",
       " 47,\n",
       " 'Tecnologia',\n",
       " 49,\n",
       " 'Cívica',\n",
       " 'Tecnologia',\n",
       " 52,\n",
       " 53,\n",
       " 'Tecnologia',\n",
       " 'Cívica',\n",
       " 56,\n",
       " 'Tecnologia',\n",
       " 58,\n",
       " 59,\n",
       " 'Tecnologia Cívica',\n",
       " 61,\n",
       " 62,\n",
       " 'Tecnologia',\n",
       " 64,\n",
       " 'Cívica',\n",
       " 'Tecnologia',\n",
       " 67,\n",
       " 68,\n",
       " 'Tecnologia',\n",
       " 'Cívica',\n",
       " 71,\n",
       " 'Tecnologia',\n",
       " 73,\n",
       " 74,\n",
       " 'Tecnologia Cívica',\n",
       " 76,\n",
       " 77,\n",
       " 'Tecnologia',\n",
       " 79,\n",
       " 'Cívica',\n",
       " 'Tecnologia',\n",
       " 82,\n",
       " 83,\n",
       " 'Tecnologia',\n",
       " 'Cívica',\n",
       " 86,\n",
       " 'Tecnologia',\n",
       " 88,\n",
       " 89,\n",
       " 'Tecnologia Cívica',\n",
       " 91,\n",
       " 92,\n",
       " 'Tecnologia',\n",
       " 94,\n",
       " 'Cívica',\n",
       " 'Tecnologia',\n",
       " 97,\n",
       " 98,\n",
       " 'Tecnologia',\n",
       " 'Cívica',\n",
       " 101,\n",
       " 'Tecnologia',\n",
       " 103,\n",
       " 104,\n",
       " 'Tecnologia Cívica',\n",
       " 106,\n",
       " 107,\n",
       " 'Tecnologia',\n",
       " 109,\n",
       " 'Cívica',\n",
       " 'Tecnologia',\n",
       " 112,\n",
       " 113,\n",
       " 'Tecnologia',\n",
       " 'Cívica',\n",
       " 116,\n",
       " 'Tecnologia',\n",
       " 118,\n",
       " 119,\n",
       " 'Tecnologia Cívica',\n",
       " 121,\n",
       " 122,\n",
       " 'Tecnologia',\n",
       " 124,\n",
       " 'Cívica',\n",
       " 'Tecnologia',\n",
       " 127,\n",
       " 128,\n",
       " 'Tecnologia',\n",
       " 'Cívica',\n",
       " 131,\n",
       " 'Tecnologia',\n",
       " 133,\n",
       " 134,\n",
       " 'Tecnologia Cívica',\n",
       " 136,\n",
       " 137,\n",
       " 'Tecnologia',\n",
       " 139,\n",
       " 'Cívica',\n",
       " 'Tecnologia',\n",
       " 142,\n",
       " 143,\n",
       " 'Tecnologia',\n",
       " 'Cívica',\n",
       " 146,\n",
       " 'Tecnologia',\n",
       " 148,\n",
       " 149,\n",
       " 'Tecnologia Cívica',\n",
       " 151,\n",
       " 152,\n",
       " 'Tecnologia',\n",
       " 154]"
      ]
     },
     "execution_count": 6,
     "metadata": {},
     "output_type": "execute_result"
    }
   ],
   "source": [
    "lista_numerica2"
   ]
  },
  {
   "cell_type": "code",
   "execution_count": 7,
   "id": "95063e9a",
   "metadata": {},
   "outputs": [],
   "source": [
    "lista_numerica_pos_valor = []"
   ]
  },
  {
   "cell_type": "code",
   "execution_count": 8,
   "id": "dafac2f6",
   "metadata": {},
   "outputs": [
    {
     "data": {
      "text/plain": [
       "0"
      ]
     },
     "execution_count": 8,
     "metadata": {},
     "output_type": "execute_result"
    }
   ],
   "source": [
    "pos = lista_numerica2.index('Tecnologia')\n",
    "pos"
   ]
  },
  {
   "cell_type": "code",
   "execution_count": 9,
   "id": "f00c5131",
   "metadata": {},
   "outputs": [],
   "source": [
    "count = 0\n",
    "for i in lista_numerica2:\n",
    "    dict_pos_value = dict(zip(['Posição','Valor'],[count, i]))\n",
    "    count = count + 1\n",
    "    lista_numerica_pos_valor.append(dict_pos_value)"
   ]
  },
  {
   "cell_type": "code",
   "execution_count": 10,
   "id": "cca2e866",
   "metadata": {},
   "outputs": [
    {
     "data": {
      "text/plain": [
       "[{'Posição': 0, 'Valor': 'Tecnologia'},\n",
       " {'Posição': 1, 'Valor': 34},\n",
       " {'Posição': 2, 'Valor': 'Cívica'},\n",
       " {'Posição': 3, 'Valor': 'Tecnologia'},\n",
       " {'Posição': 4, 'Valor': 37},\n",
       " {'Posição': 5, 'Valor': 38},\n",
       " {'Posição': 6, 'Valor': 'Tecnologia'},\n",
       " {'Posição': 7, 'Valor': 'Cívica'},\n",
       " {'Posição': 8, 'Valor': 41},\n",
       " {'Posição': 9, 'Valor': 'Tecnologia'},\n",
       " {'Posição': 10, 'Valor': 43},\n",
       " {'Posição': 11, 'Valor': 44},\n",
       " {'Posição': 12, 'Valor': 'Tecnologia Cívica'},\n",
       " {'Posição': 13, 'Valor': 46},\n",
       " {'Posição': 14, 'Valor': 47},\n",
       " {'Posição': 15, 'Valor': 'Tecnologia'},\n",
       " {'Posição': 16, 'Valor': 49},\n",
       " {'Posição': 17, 'Valor': 'Cívica'},\n",
       " {'Posição': 18, 'Valor': 'Tecnologia'},\n",
       " {'Posição': 19, 'Valor': 52},\n",
       " {'Posição': 20, 'Valor': 53},\n",
       " {'Posição': 21, 'Valor': 'Tecnologia'},\n",
       " {'Posição': 22, 'Valor': 'Cívica'},\n",
       " {'Posição': 23, 'Valor': 56},\n",
       " {'Posição': 24, 'Valor': 'Tecnologia'},\n",
       " {'Posição': 25, 'Valor': 58},\n",
       " {'Posição': 26, 'Valor': 59},\n",
       " {'Posição': 27, 'Valor': 'Tecnologia Cívica'},\n",
       " {'Posição': 28, 'Valor': 61},\n",
       " {'Posição': 29, 'Valor': 62},\n",
       " {'Posição': 30, 'Valor': 'Tecnologia'},\n",
       " {'Posição': 31, 'Valor': 64},\n",
       " {'Posição': 32, 'Valor': 'Cívica'},\n",
       " {'Posição': 33, 'Valor': 'Tecnologia'},\n",
       " {'Posição': 34, 'Valor': 67},\n",
       " {'Posição': 35, 'Valor': 68},\n",
       " {'Posição': 36, 'Valor': 'Tecnologia'},\n",
       " {'Posição': 37, 'Valor': 'Cívica'},\n",
       " {'Posição': 38, 'Valor': 71},\n",
       " {'Posição': 39, 'Valor': 'Tecnologia'},\n",
       " {'Posição': 40, 'Valor': 73},\n",
       " {'Posição': 41, 'Valor': 74},\n",
       " {'Posição': 42, 'Valor': 'Tecnologia Cívica'},\n",
       " {'Posição': 43, 'Valor': 76},\n",
       " {'Posição': 44, 'Valor': 77},\n",
       " {'Posição': 45, 'Valor': 'Tecnologia'},\n",
       " {'Posição': 46, 'Valor': 79},\n",
       " {'Posição': 47, 'Valor': 'Cívica'},\n",
       " {'Posição': 48, 'Valor': 'Tecnologia'},\n",
       " {'Posição': 49, 'Valor': 82},\n",
       " {'Posição': 50, 'Valor': 83},\n",
       " {'Posição': 51, 'Valor': 'Tecnologia'},\n",
       " {'Posição': 52, 'Valor': 'Cívica'},\n",
       " {'Posição': 53, 'Valor': 86},\n",
       " {'Posição': 54, 'Valor': 'Tecnologia'},\n",
       " {'Posição': 55, 'Valor': 88},\n",
       " {'Posição': 56, 'Valor': 89},\n",
       " {'Posição': 57, 'Valor': 'Tecnologia Cívica'},\n",
       " {'Posição': 58, 'Valor': 91},\n",
       " {'Posição': 59, 'Valor': 92},\n",
       " {'Posição': 60, 'Valor': 'Tecnologia'},\n",
       " {'Posição': 61, 'Valor': 94},\n",
       " {'Posição': 62, 'Valor': 'Cívica'},\n",
       " {'Posição': 63, 'Valor': 'Tecnologia'},\n",
       " {'Posição': 64, 'Valor': 97},\n",
       " {'Posição': 65, 'Valor': 98},\n",
       " {'Posição': 66, 'Valor': 'Tecnologia'},\n",
       " {'Posição': 67, 'Valor': 'Cívica'},\n",
       " {'Posição': 68, 'Valor': 101},\n",
       " {'Posição': 69, 'Valor': 'Tecnologia'},\n",
       " {'Posição': 70, 'Valor': 103},\n",
       " {'Posição': 71, 'Valor': 104},\n",
       " {'Posição': 72, 'Valor': 'Tecnologia Cívica'},\n",
       " {'Posição': 73, 'Valor': 106},\n",
       " {'Posição': 74, 'Valor': 107},\n",
       " {'Posição': 75, 'Valor': 'Tecnologia'},\n",
       " {'Posição': 76, 'Valor': 109},\n",
       " {'Posição': 77, 'Valor': 'Cívica'},\n",
       " {'Posição': 78, 'Valor': 'Tecnologia'},\n",
       " {'Posição': 79, 'Valor': 112},\n",
       " {'Posição': 80, 'Valor': 113},\n",
       " {'Posição': 81, 'Valor': 'Tecnologia'},\n",
       " {'Posição': 82, 'Valor': 'Cívica'},\n",
       " {'Posição': 83, 'Valor': 116},\n",
       " {'Posição': 84, 'Valor': 'Tecnologia'},\n",
       " {'Posição': 85, 'Valor': 118},\n",
       " {'Posição': 86, 'Valor': 119},\n",
       " {'Posição': 87, 'Valor': 'Tecnologia Cívica'},\n",
       " {'Posição': 88, 'Valor': 121},\n",
       " {'Posição': 89, 'Valor': 122},\n",
       " {'Posição': 90, 'Valor': 'Tecnologia'},\n",
       " {'Posição': 91, 'Valor': 124},\n",
       " {'Posição': 92, 'Valor': 'Cívica'},\n",
       " {'Posição': 93, 'Valor': 'Tecnologia'},\n",
       " {'Posição': 94, 'Valor': 127},\n",
       " {'Posição': 95, 'Valor': 128},\n",
       " {'Posição': 96, 'Valor': 'Tecnologia'},\n",
       " {'Posição': 97, 'Valor': 'Cívica'},\n",
       " {'Posição': 98, 'Valor': 131},\n",
       " {'Posição': 99, 'Valor': 'Tecnologia'},\n",
       " {'Posição': 100, 'Valor': 133},\n",
       " {'Posição': 101, 'Valor': 134},\n",
       " {'Posição': 102, 'Valor': 'Tecnologia Cívica'},\n",
       " {'Posição': 103, 'Valor': 136},\n",
       " {'Posição': 104, 'Valor': 137},\n",
       " {'Posição': 105, 'Valor': 'Tecnologia'},\n",
       " {'Posição': 106, 'Valor': 139},\n",
       " {'Posição': 107, 'Valor': 'Cívica'},\n",
       " {'Posição': 108, 'Valor': 'Tecnologia'},\n",
       " {'Posição': 109, 'Valor': 142},\n",
       " {'Posição': 110, 'Valor': 143},\n",
       " {'Posição': 111, 'Valor': 'Tecnologia'},\n",
       " {'Posição': 112, 'Valor': 'Cívica'},\n",
       " {'Posição': 113, 'Valor': 146},\n",
       " {'Posição': 114, 'Valor': 'Tecnologia'},\n",
       " {'Posição': 115, 'Valor': 148},\n",
       " {'Posição': 116, 'Valor': 149},\n",
       " {'Posição': 117, 'Valor': 'Tecnologia Cívica'},\n",
       " {'Posição': 118, 'Valor': 151},\n",
       " {'Posição': 119, 'Valor': 152},\n",
       " {'Posição': 120, 'Valor': 'Tecnologia'},\n",
       " {'Posição': 121, 'Valor': 154}]"
      ]
     },
     "execution_count": 10,
     "metadata": {},
     "output_type": "execute_result"
    }
   ],
   "source": [
    "lista_numerica_pos_valor"
   ]
  }
 ],
 "metadata": {
  "kernelspec": {
   "display_name": "Python 3 (ipykernel)",
   "language": "python",
   "name": "python3"
  },
  "language_info": {
   "codemirror_mode": {
    "name": "ipython",
    "version": 3
   },
   "file_extension": ".py",
   "mimetype": "text/x-python",
   "name": "python",
   "nbconvert_exporter": "python",
   "pygments_lexer": "ipython3",
   "version": "3.9.1"
  }
 },
 "nbformat": 4,
 "nbformat_minor": 5
}
