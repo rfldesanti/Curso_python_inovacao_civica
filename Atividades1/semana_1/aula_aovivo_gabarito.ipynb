{
 "cells": [
  {
   "cell_type": "markdown",
   "id": "73e1abaf",
   "metadata": {},
   "source": [
    "# Exercício\n",
    "\n",
    "Construa um programa que:\n",
    " - Pergunte a usuária 2 números inteiro;\n",
    " - Crie uma lista numérica do intervalo;\n",
    " - Se o número for divisível por 3, substitua-o o número por \"Tecnologia\";\n",
    " - Se o número for divisível por 5, substitua-o por \"Cívica\";\n",
    " - Se o número for divisível por 3 e 5, substitua-o por \"Tecnologia Cívica\"."
   ]
  },
  {
   "cell_type": "code",
   "execution_count": 2,
   "id": "63cb239b",
   "metadata": {},
   "outputs": [
    {
     "name": "stdout",
     "output_type": "stream",
     "text": [
      "Insira um número inteiro positivo: 5\n"
     ]
    }
   ],
   "source": [
    "numero_1 = int(input('Insira um número inteiro positivo: '))"
   ]
  },
  {
   "cell_type": "code",
   "execution_count": 3,
   "id": "956676c6",
   "metadata": {},
   "outputs": [
    {
     "name": "stdout",
     "output_type": "stream",
     "text": [
      "Insira um número inteiro positivo maior do que o anterior: 15\n"
     ]
    }
   ],
   "source": [
    "numero_2 = int(input('Insira um número inteiro positivo maior do que o anterior: '))"
   ]
  },
  {
   "cell_type": "code",
   "execution_count": 4,
   "id": "32c3adf8",
   "metadata": {},
   "outputs": [],
   "source": [
    "lista = []"
   ]
  },
  {
   "cell_type": "code",
   "execution_count": 5,
   "id": "3e1684b2",
   "metadata": {},
   "outputs": [],
   "source": [
    "for numero in range(numero_1, numero_2): \n",
    "    if numero % 3 == 0 and numero % 5 == 0:\n",
    "        lista.append('Tecnologia Cívica')\n",
    "    elif numero % 3 == 0:\n",
    "        lista.append('Tecnologia')\n",
    "    elif numero % 5 == 0:\n",
    "        lista.append('Cívica')\n",
    "    else:\n",
    "        lista.append(numero)\n",
    "        "
   ]
  },
  {
   "cell_type": "code",
   "execution_count": 7,
   "id": "522ccfcc",
   "metadata": {},
   "outputs": [
    {
     "name": "stdout",
     "output_type": "stream",
     "text": [
      "['Cívica', 'Tecnologia', 7, 8, 'Tecnologia', 'Cívica', 11, 'Tecnologia', 13, 14]\n"
     ]
    }
   ],
   "source": [
    "print(lista)"
   ]
  }
 ],
 "metadata": {
  "kernelspec": {
   "display_name": "Python 3 (ipykernel)",
   "language": "python",
   "name": "python3"
  },
  "language_info": {
   "codemirror_mode": {
    "name": "ipython",
    "version": 3
   },
   "file_extension": ".py",
   "mimetype": "text/x-python",
   "name": "python",
   "nbconvert_exporter": "python",
   "pygments_lexer": "ipython3",
   "version": "3.9.1"
  }
 },
 "nbformat": 4,
 "nbformat_minor": 5
}
