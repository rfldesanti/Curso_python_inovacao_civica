{
 "cells": [
  {
   "cell_type": "markdown",
   "id": "7887d16d",
   "metadata": {},
   "source": [
    "# Escola de Dados - Python para inovação cívica\n",
    "## Módulo 1: Por dentro do python\n",
    "\n",
    "- [Aula 3](#Aula-3:-Estrutura-de-controle)\n",
    "- [Aula 4](#Aula-4:-Estrutura-de-repetição)\n",
    "\n",
    "\n",
    "### Aula 3: Estrutura de controle\n",
    "\n",
    "Em Python existem duas importantes Estruturas de Controle para seleção. Um delas, a estrutura *if-else*, também conhecida como condicional, permite estabelecer uma condição e, caso ela se cumpra, o código executará a ação prevista, caso contrário \n",
    "isso não acontecerá.\n",
    "\n",
    "Vamos usá-la para classificar o partido em um dos grupos. Os dados que usaremos nesse notebook pode ser encontrado em: [TSE. Candidaturas em 2020](https://www.tse.jus.br/eleicoes/estatisticas/repositorio-de-dados-eleitorais-1)\n",
    "\n",
    "Nesse primeiro exemplo, classificaremos o item da lista em um dos seguintes grupos:\n",
    "\n",
    "- Partidos que suas siglas iniciem com a letra P\n",
    "- Partidos que iniciem com outra letra"
   ]
  },
  {
   "cell_type": "markdown",
   "id": "31fc7ed8",
   "metadata": {},
   "source": [
    "#### Abaixo, a variável sg_partido é uma LISTA, com apenas um item adicionado, 'PSOL'"
   ]
  },
  {
   "cell_type": "code",
   "execution_count": 2,
   "id": "535fb925",
   "metadata": {},
   "outputs": [],
   "source": [
    "sg_partido = ['PSOL']"
   ]
  },
  {
   "cell_type": "markdown",
   "id": "c4342e4c",
   "metadata": {},
   "source": [
    "#### Toda LISTA pode ser acessada através do seu nome e do índice ao qual você quer fazer referência.\n",
    "\n",
    "Por exemplo: vamos criar uma string chamada \"partido_exemplo\" e dar a ela o primeiro valor da LISTA \"sg_partido\""
   ]
  },
  {
   "cell_type": "code",
   "execution_count": 3,
   "id": "d615ab7f",
   "metadata": {},
   "outputs": [
    {
     "data": {
      "text/plain": [
       "'PSOL'"
      ]
     },
     "execution_count": 3,
     "metadata": {},
     "output_type": "execute_result"
    }
   ],
   "source": [
    "partido_exemplo = sg_partido[0]\n",
    "partido_exemplo\n"
   ]
  },
  {
   "cell_type": "markdown",
   "id": "f6520833",
   "metadata": {},
   "source": [
    "#### Vimos, portanto, que é possível:\n",
    "    \n",
    "    - Acessar itens de uma LISTA através de um índice;\n",
    "    \n",
    "#### Vamos agora incrementar o número de itens na lista \"sg_partido\""
   ]
  },
  {
   "cell_type": "markdown",
   "id": "e72749a3",
   "metadata": {},
   "source": [
    "#### Podemos fazer isso de várias formas. A forma mais utilizada é através do método *append*\n"
   ]
  },
  {
   "cell_type": "code",
   "execution_count": 4,
   "id": "e891ff15",
   "metadata": {},
   "outputs": [
    {
     "data": {
      "text/plain": [
       "['PSOL', 'MDB']"
      ]
     },
     "execution_count": 4,
     "metadata": {},
     "output_type": "execute_result"
    }
   ],
   "source": [
    "sg_partido.append('MDB')\n",
    "sg_partido"
   ]
  },
  {
   "cell_type": "markdown",
   "id": "b13b7854",
   "metadata": {},
   "source": [
    "#### Podemos acessar os \"itens\" de cada item de uma lista. Dado que a lista com a qual estamos trabalhando é formada por strings, podemos acessar os caracteres que formam cada uma dessas strings. Isso é feito através dos índices que passarmos para a variável"
   ]
  },
  {
   "cell_type": "markdown",
   "id": "5c4f8f42",
   "metadata": {},
   "source": [
    "#### A srtring 'PSOL', por exemplo, é formada por quatro caracteres. Se quisermos acessar o terceiro caractere, executamos o comando abaixo:"
   ]
  },
  {
   "cell_type": "code",
   "execution_count": 7,
   "id": "60d06964",
   "metadata": {},
   "outputs": [
    {
     "name": "stdout",
     "output_type": "stream",
     "text": [
      "O\n"
     ]
    }
   ],
   "source": [
    "letra = sg_partido[0][2] #[0][2] significa 'posição 2 do item 0, ou seja, o item da posição 2 do primeiro item da lista'\n",
    "print(letra)"
   ]
  },
  {
   "cell_type": "markdown",
   "id": "c8358248",
   "metadata": {},
   "source": [
    "#### Podemos fazer o mesmo para o segundo item da lista. Se quisermos o último caractere do segundo item, executamos:"
   ]
  },
  {
   "cell_type": "code",
   "execution_count": 8,
   "id": "3a6d7408",
   "metadata": {},
   "outputs": [
    {
     "name": "stdout",
     "output_type": "stream",
     "text": [
      "B\n"
     ]
    }
   ],
   "source": [
    "letra_1 = sg_partido[1][2] # posição 1 da lista e posição 2 do item\n",
    "print(letra_1)"
   ]
  },
  {
   "cell_type": "markdown",
   "id": "551f81eb",
   "metadata": {},
   "source": [
    "#### A ideia agora é utilizar a estrutura de seleção \"if - else\" para compormos uma lista que cumpra determinadas condições\n",
    "\n",
    "A estrutura *if - else* é formada da seguinte forma:\n",
    "\n",
    "    if <condição a ser verificada é verdadeira>:\n",
    "        execute tal ação\n",
    "    elif <condição a ser verificada é verdadeira>:\n",
    "        execute tal ação\n",
    "    [quantos elifs forem necessários]:\n",
    "    else: <nenhuma das alternativas anteriores foram atendidas>\n",
    "        execute tal ação\n",
    "    "
   ]
  },
  {
   "cell_type": "markdown",
   "id": "060bb270",
   "metadata": {},
   "source": [
    "#### Se quisermos encontrar dentro de uma lista itens que cumpram determinadas condições, utilizamos a estrutura de seleção para fazer essa separação.\n",
    "#### Para isso, precisamos definir variáveis do tipo LISTA que irão receber os valores encontrados.\n",
    "#### Abaixo, criamos duas variáveis do tipo LISTA para armazenar:\n",
    "#### - Partidos que comecem com a letra 'P' (*sg_partido_letra_p = [ ]*)\n",
    "#### - Partidos que não comecem com a letra 'P' (*sg_partido_letra_nao_definida = [ ]*)"
   ]
  },
  {
   "cell_type": "code",
   "execution_count": 9,
   "id": "cb313b59",
   "metadata": {},
   "outputs": [],
   "source": [
    "sg_partido_letra_p = []\n",
    "sg_partido_letra_nao_definida = []"
   ]
  },
  {
   "cell_type": "markdown",
   "id": "23709ea1",
   "metadata": {},
   "source": [
    "#### Abaixo, vamos executar a estrutura *if - else*, verificando quais partidos da lista começam ou não com a letra 'p' em cada um dos itens que temos dentro da lista"
   ]
  },
  {
   "cell_type": "code",
   "execution_count": 10,
   "id": "bbe032db",
   "metadata": {},
   "outputs": [],
   "source": [
    "if sg_partido[0][0] == 'P':\n",
    "    sg_partido_letra_p.append(sg_partido[0])    \n",
    "else:\n",
    "    sg_partido_letra_nao_definida.append(sg_partido[0])"
   ]
  },
  {
   "cell_type": "code",
   "execution_count": 11,
   "id": "b164f3be",
   "metadata": {},
   "outputs": [],
   "source": [
    "if sg_partido[1][0] == 'P':\n",
    "    sg_partido_letra_p.append(sg_partido[1])\n",
    "else:\n",
    "    sg_partido_letra_nao_definida.append(sg_partido[1])"
   ]
  },
  {
   "cell_type": "markdown",
   "id": "2ff500d0",
   "metadata": {},
   "source": [
    "#### Abaixo, utilizamos a função *print(f'\\<texto> {variável}')* para exibir o texto informativo e os valores inseridos nas variáveis criadas"
   ]
  },
  {
   "cell_type": "code",
   "execution_count": 12,
   "id": "b2a4e948",
   "metadata": {},
   "outputs": [
    {
     "name": "stdout",
     "output_type": "stream",
     "text": [
      "Os partidos cujas siglas iniciam com a letra P são: ['PSOL'].\n",
      "Os partidos cujas siglas não iniciam com a letra P são: ['MDB'].\n"
     ]
    }
   ],
   "source": [
    "print(f'Os partidos cujas siglas iniciam com a letra P são: {sg_partido_letra_p}.')\n",
    "print(f'Os partidos cujas siglas não iniciam com a letra P são: {sg_partido_letra_nao_definida}.')"
   ]
  },
  {
   "cell_type": "markdown",
   "id": "4c93219b",
   "metadata": {},
   "source": [
    "### Dicionários"
   ]
  },
  {
   "cell_type": "markdown",
   "id": "d3ed938f",
   "metadata": {},
   "source": [
    "#### Dicionários são objetos *contêineres*, ou seja, objetos que carregam diferentes valores, cada valor associado a um nome. Esse \"nome\" é designado também pelo termo *chave*. \n",
    "\n",
    "#### Portanto, contêineres do tipo dicionário são estruturas de dados(assim como a *lista*) que possuem dados organizados em modelo do tipo *chave-valor*."
   ]
  },
  {
   "cell_type": "markdown",
   "id": "0739b88d",
   "metadata": {},
   "source": [
    "#### A ideia do exercício abaixo é utilizar uma *estrutura de repetição* chamada *for* para iterar por um dicionário, buscando por uma informação específica e classificando-a conforme nossos interesses. \n",
    "\n",
    "#### Nesse caso, queremos descobrir quantos candidatos existem para cada faixa etária estipulada"
   ]
  },
  {
   "cell_type": "markdown",
   "id": "aa4f67c1",
   "metadata": {},
   "source": [
    "Nesse segundo exemplo, classificaremos o item do dicionário em um dos seguintes grupos:\n",
    "\n",
    "- 18-24 anos\n",
    "- 25-34 anos\n",
    "- 35-44 anos\n",
    "- 45-54 anos\n",
    "- 55-64 anos\n",
    "- acima 64 anos"
   ]
  },
  {
   "cell_type": "markdown",
   "id": "6f969f0d",
   "metadata": {},
   "source": [
    "#### Dicionário a ser utilizado:"
   ]
  },
  {
   "cell_type": "code",
   "execution_count": 21,
   "id": "a5c69bb3",
   "metadata": {},
   "outputs": [],
   "source": [
    "candidatura = {'DT_GERACAO': '22/05/2021',\n",
    "  'HH_GERACAO': '12:18:46',\n",
    "  'ANO_ELEICAO': 2020,\n",
    "  'CD_TIPO_ELEICAO': 2,\n",
    "  'NM_TIPO_ELEICAO': 'ELEIÇÃO ORDINÁRIA',\n",
    "  'NR_TURNO': 1,\n",
    "  'CD_ELEICAO': 426,\n",
    "  'DS_ELEICAO': 'Eleições Municipais 2020',\n",
    "  'DT_ELEICAO': '15/11/2020',\n",
    "  'TP_ABRANGENCIA': 'MUNICIPAL',\n",
    "  'SG_UF': 'PE',\n",
    "  'SG_UE': 25216,\n",
    "  'NM_UE': 'PETROLINA',\n",
    "  'CD_CARGO': 13,\n",
    "  'DS_CARGO': 'VEREADOR',\n",
    "  'SQ_CANDIDATO': 170000824939,\n",
    "  'NR_CANDIDATO': 25100,\n",
    "  'NM_CANDIDATO': 'ORESTES DA VILA RONDAL',\n",
    "  'NM_URNA_CANDIDATO': 'DANI PLUS',\n",
    "  'NM_SOCIAL_CANDIDATO': '#NULO#',\n",
    "  'NR_CPF_CANDIDATO': 4670632493,\n",
    "  'NM_EMAIL': 'DANIELE.SEDESDH@GMAIL.COM',\n",
    "  'CD_SITUACAO_CANDIDATURA': 12,\n",
    "  'DS_SITUACAO_CANDIDATURA': 'APTO',\n",
    "  'CD_DETALHE_SITUACAO_CAND': 2,\n",
    "  'DS_DETALHE_SITUACAO_CAND': 'DEFERIDO',\n",
    "  'TP_AGREMIACAO': 'PARTIDO ISOLADO',\n",
    "  'NR_PARTIDO': 25,\n",
    "  'SG_PARTIDO': 'DEM',\n",
    "  'NM_PARTIDO': 'DEMOCRATAS',\n",
    "  'SQ_COLIGACAO': 170000086526,\n",
    "  'NM_COLIGACAO': 'PARTIDO ISOLADO',\n",
    "  'DS_COMPOSICAO_COLIGACAO': 'DEM',\n",
    "  'CD_NACIONALIDADE': 1,\n",
    "  'DS_NACIONALIDADE': 'BRASILEIRA NATA',\n",
    "  'SG_UF_NASCIMENTO': 'BA',\n",
    "  'CD_MUNICIPIO_NASCIMENTO': -3,\n",
    "  'NM_MUNICIPIO_NASCIMENTO': 'JUAZEIRO',\n",
    "  'DT_NASCIMENTO': '01/05/1981',\n",
    "  'NR_IDADE_DATA_POSSE': 39,\n",
    "  'NR_TITULO_ELEITORAL_CANDIDATO': 53652250884,\n",
    "  'CD_GENERO': 4,\n",
    "  'DS_GENERO': 'FEMININO',\n",
    "  'CD_GRAU_INSTRUCAO': 7,\n",
    "  'DS_GRAU_INSTRUCAO': 'SUPERIOR INCOMPLETO',\n",
    "  'CD_ESTADO_CIVIL': 1,\n",
    "  'DS_ESTADO_CIVIL': 'SOLTEIRO(A)',\n",
    "  'CD_COR_RACA': 2,\n",
    "  'DS_COR_RACA': 'PRETA',\n",
    "  'CD_OCUPACAO': 931,\n",
    "  'DS_OCUPACAO': 'ESTUDANTE, BOLSISTA, ESTAGIÁRIO E ASSEMELHADOS',\n",
    "  'VR_DESPESA_MAX_CAMPANHA': 131218.52,\n",
    "  'CD_SIT_TOT_TURNO': 5,\n",
    "  'DS_SIT_TOT_TURNO': 'SUPLENTE',\n",
    "  'ST_REELEICAO': 'N',\n",
    "  'ST_DECLARAR_BENS': 'N',\n",
    "  'NR_PROTOCOLO_CANDIDATURA': -1,\n",
    "  'NR_PROCESSO': 6002695420206170083,\n",
    "  'CD_SITUACAO_CANDIDATO_PLEITO': 2,\n",
    "  'DS_SITUACAO_CANDIDATO_PLEITO': 'DEFERIDO',\n",
    "  'CD_SITUACAO_CANDIDATO_URNA': 2,\n",
    "  'DS_SITUACAO_CANDIDATO_URNA': 'DEFERIDO',\n",
    "  'ST_CANDIDATO_INSERIDO_URNA': 'SIM'}"
   ]
  },
  {
   "cell_type": "markdown",
   "id": "ddbe85e6",
   "metadata": {},
   "source": [
    "#### Declarção das variáveis das faixas etárias:"
   ]
  },
  {
   "cell_type": "code",
   "execution_count": 22,
   "id": "4d573dd3",
   "metadata": {},
   "outputs": [],
   "source": [
    "anos_18_24 = []\n",
    "anos_25_34 = []\n",
    "anos_35_44 = []\n",
    "anos_45_54 = []\n",
    "anos_55_64 = []\n",
    "anos_acima_64 = []"
   ]
  },
  {
   "cell_type": "code",
   "execution_count": 23,
   "id": "7f82dabb",
   "metadata": {},
   "outputs": [],
   "source": [
    "if candidatura['NR_IDADE_DATA_POSSE'] >= 18 and candidatura['NR_IDADE_DATA_POSSE'] <= 24:\n",
    "# se o valor associado à chave 'NR_IDADE_DATA_POSSE' é maior que 18 e menor que 24\n",
    "    anos_18_24.append(candidatura['NM_CANDIDATO'])\n",
    "    # adicione o valor da chave 'NM_CANDIDATO' à lista anos_18_24\n",
    "elif candidatura['NR_IDADE_DATA_POSSE'] >= 25 and candidatura['NR_IDADE_DATA_POSSE'] <= 34:\n",
    "    anos_25_34.append(candidatura['NM_CANDIDATO'])\n",
    "elif candidatura['NR_IDADE_DATA_POSSE'] >= 35 and candidatura['NR_IDADE_DATA_POSSE'] <= 44:\n",
    "    anos_35_44.append(candidatura['NM_CANDIDATO'])\n",
    "elif candidatura['NR_IDADE_DATA_POSSE'] >= 45 and candidatura['NR_IDADE_DATA_POSSE'] <= 54:\n",
    "    anos_45_54.append(candidatura['NM_CANDIDATO'])\n",
    "elif candidatura['NR_IDADE_DATA_POSSE'] >= 55 and candidatura['NR_IDADE_DATA_POSSE'] <= 64:\n",
    "    anos_55_64.append(candidatura['NM_CANDIDATO'])\n",
    "else:\n",
    "    anos_acima_64.append(candidatura['NM_CANDIDATO'])"
   ]
  },
  {
   "cell_type": "code",
   "execution_count": 24,
   "id": "4a00471f",
   "metadata": {},
   "outputs": [
    {
     "name": "stdout",
     "output_type": "stream",
     "text": [
      "Candidaturas por faixa etária:\n",
      "18-24 anos: []\n",
      "25-34 anos: []\n",
      "35-44 anos: ['ORESTES DA VILA RONDAL']\n",
      "45-54 anos: []\n",
      "55-64 anos: []\n",
      "acima 64 anos: []\n"
     ]
    }
   ],
   "source": [
    "print(f'Candidaturas por faixa etária:')\n",
    "print(f'18-24 anos: {anos_18_24}')\n",
    "print(f'25-34 anos: {anos_25_34}')\n",
    "print(f'35-44 anos: {anos_35_44}')\n",
    "print(f'45-54 anos: {anos_45_54}')\n",
    "print(f'55-64 anos: {anos_55_64}')\n",
    "print(f'acima 64 anos: {anos_acima_64}')"
   ]
  },
  {
   "cell_type": "markdown",
   "id": "365c28bc",
   "metadata": {},
   "source": [
    "### Aula 4: Estrutura de repetição\n",
    "\n",
    "Repetiremos o exercício da aula anterior, dessa vez complementando o código usando a estrutura de controle do tipo interação (for). Desse modo poderemos classificar vários elementos de uma lista ou dicionário.\n",
    "\n",
    "Nesse primeiro exemplo, classificaremos os itens da lista em um dos seguintes grupos:\n",
    "\n",
    "- Partidos que suas siglas iniciem com a letra P\n",
    "- Partidos que iniciem com outra letra"
   ]
  },
  {
   "cell_type": "code",
   "execution_count": 30,
   "id": "4ccaca94",
   "metadata": {},
   "outputs": [],
   "source": [
    "sg_partido = ['DEM', 'DC', 'PTB', 'REPUBLICANOS', 'PSL', 'PC do B', 'PTC',\n",
    "       'CIDADANIA', 'PSOL', 'MDB', 'PT', 'PSB', 'AVANTE', 'PATRIOTA',\n",
    "       'PSD', 'PDT', 'PRTB', 'PL', 'REDE', 'PODE', 'PSDB', 'PMN', 'PP',\n",
    "       'PSC', 'SOLIDARIEDADE', 'PROS', 'PV', 'PCB', 'PMB', 'UP', 'NOVO',\n",
    "       'PCO', 'PSTU', 'PENEI', 'NÃO PENEI', 'PENANDO', 'NÃO PENANDO']"
   ]
  },
  {
   "cell_type": "code",
   "execution_count": 31,
   "id": "0aa213d4",
   "metadata": {},
   "outputs": [],
   "source": [
    "sg_partido_letra_p = []\n",
    "sg_partido_letra_nao_definida = []"
   ]
  },
  {
   "cell_type": "markdown",
   "id": "9972cae5",
   "metadata": {},
   "source": [
    "### O iterador FOR funciona da seguinte maneira:\n",
    "\n",
    " <b>for</b> <variável passageira> <b>in</b> <dicionário>:\n",
    " \n",
    " #### Ou seja, ele irá passar por todas as chaves de um dicionário ou itens de uma lista, adicionando seus valores à variável passageira. A cada passagem, irá verificar as condições estabelecidas no corpo do código. O iterador FOR também pode receber uma condição ELSE, que será executada assim que o bloco de código concluir"
   ]
  },
  {
   "cell_type": "code",
   "execution_count": 32,
   "id": "547f8b67",
   "metadata": {},
   "outputs": [
    {
     "name": "stdout",
     "output_type": "stream",
     "text": [
      "Atividade concluída\n"
     ]
    }
   ],
   "source": [
    "for sigla in sg_partido:\n",
    "\n",
    "    if sigla[0] == 'P':\n",
    "        sg_partido_letra_p.append(sigla)    \n",
    "    else:\n",
    "        sg_partido_letra_nao_definida.append(sigla)\n",
    "else:\n",
    "    print('Atividade concluída')"
   ]
  },
  {
   "cell_type": "code",
   "execution_count": 33,
   "id": "1bafd97f",
   "metadata": {},
   "outputs": [
    {
     "name": "stdout",
     "output_type": "stream",
     "text": [
      "Os partidos cujas siglas iniciam com a letra P são: ['PTB', 'PSL', 'PC do B', 'PTC', 'PSOL', 'PT', 'PSB', 'PATRIOTA', 'PSD', 'PDT', 'PRTB', 'PL', 'PODE', 'PSDB', 'PMN', 'PP', 'PSC', 'PROS', 'PV', 'PCB', 'PMB', 'PCO', 'PSTU', 'PENEI', 'PENANDO'].\n"
     ]
    }
   ],
   "source": [
    "print(f'Os partidos cujas siglas iniciam com a letra P são: {sg_partido_letra_p}.')"
   ]
  },
  {
   "cell_type": "code",
   "execution_count": 34,
   "id": "c1440811",
   "metadata": {},
   "outputs": [
    {
     "name": "stdout",
     "output_type": "stream",
     "text": [
      "Os partidos cujas siglas não iniciam com a letra P são: ['DEM', 'DC', 'REPUBLICANOS', 'CIDADANIA', 'MDB', 'AVANTE', 'REDE', 'SOLIDARIEDADE', 'UP', 'NOVO', 'NÃO PENEI', 'NÃO PENANDO'].\n"
     ]
    }
   ],
   "source": [
    "print(f'Os partidos cujas siglas não iniciam com a letra P são: {sg_partido_letra_nao_definida}.')"
   ]
  },
  {
   "cell_type": "markdown",
   "id": "44bc8582",
   "metadata": {},
   "source": [
    "Nesse segundo exemplo, classificaremos os itens do dicionário em um dos seguintes grupos:\n",
    "\n",
    "- 18-24 anos\n",
    "- 25-34 anos\n",
    "- 35-44 anos\n",
    "- 45-54 anos\n",
    "- 55-64 anos\n",
    "- acima 64 anos"
   ]
  },
  {
   "cell_type": "markdown",
   "id": "46544e18",
   "metadata": {},
   "source": [
    "### A variável \"candidaturas\" abaixo é uma LISTA DE DICIONÁRIOS"
   ]
  },
  {
   "cell_type": "code",
   "execution_count": 18,
   "id": "9f80a339",
   "metadata": {},
   "outputs": [],
   "source": [
    "candidaturas = [{'DT_GERACAO': '22/05/2021',\n",
    "  'HH_GERACAO': '12:18:46',\n",
    "  'ANO_ELEICAO': 2020,\n",
    "  'CD_TIPO_ELEICAO': 2,\n",
    "  'NM_TIPO_ELEICAO': 'ELEIÇÃO ORDINÁRIA',\n",
    "  'NR_TURNO': 1,\n",
    "  'CD_ELEICAO': 426,\n",
    "  'DS_ELEICAO': 'Eleições Municipais 2020',\n",
    "  'DT_ELEICAO': '15/11/2020',\n",
    "  'TP_ABRANGENCIA': 'MUNICIPAL',\n",
    "  'SG_UF': 'PE',\n",
    "  'SG_UE': 25216,\n",
    "  'NM_UE': 'PETROLINA',\n",
    "  'CD_CARGO': 13,\n",
    "  'DS_CARGO': 'VEREADOR',\n",
    "  'SQ_CANDIDATO': 170000824939,\n",
    "  'NR_CANDIDATO': 25100,\n",
    "  'NM_CANDIDATO': 'DANIELA TAMARA SANTOS SILVA',\n",
    "  'NM_URNA_CANDIDATO': 'DANI PLUS',\n",
    "  'NM_SOCIAL_CANDIDATO': '#NULO#',\n",
    "  'NR_CPF_CANDIDATO': 4670632493,\n",
    "  'NM_EMAIL': 'DANIELE.SEDESDH@GMAIL.COM',\n",
    "  'CD_SITUACAO_CANDIDATURA': 12,\n",
    "  'DS_SITUACAO_CANDIDATURA': 'APTO',\n",
    "  'CD_DETALHE_SITUACAO_CAND': 2,\n",
    "  'DS_DETALHE_SITUACAO_CAND': 'DEFERIDO',\n",
    "  'TP_AGREMIACAO': 'PARTIDO ISOLADO',\n",
    "  'NR_PARTIDO': 25,\n",
    "  'SG_PARTIDO': 'DEM',\n",
    "  'NM_PARTIDO': 'DEMOCRATAS',\n",
    "  'SQ_COLIGACAO': 170000086526,\n",
    "  'NM_COLIGACAO': 'PARTIDO ISOLADO',\n",
    "  'DS_COMPOSICAO_COLIGACAO': 'DEM',\n",
    "  'CD_NACIONALIDADE': 1,\n",
    "  'DS_NACIONALIDADE': 'BRASILEIRA NATA',\n",
    "  'SG_UF_NASCIMENTO': 'BA',\n",
    "  'CD_MUNICIPIO_NASCIMENTO': -3,\n",
    "  'NM_MUNICIPIO_NASCIMENTO': 'JUAZEIRO',\n",
    "  'DT_NASCIMENTO': '01/05/1981',\n",
    "  'NR_IDADE_DATA_POSSE': 39,\n",
    "  'NR_TITULO_ELEITORAL_CANDIDATO': 53652250884,\n",
    "  'CD_GENERO': 4,\n",
    "  'DS_GENERO': 'FEMININO',\n",
    "  'CD_GRAU_INSTRUCAO': 7,\n",
    "  'DS_GRAU_INSTRUCAO': 'SUPERIOR INCOMPLETO',\n",
    "  'CD_ESTADO_CIVIL': 1,\n",
    "  'DS_ESTADO_CIVIL': 'SOLTEIRO(A)',\n",
    "  'CD_COR_RACA': 2,\n",
    "  'DS_COR_RACA': 'PRETA',\n",
    "  'CD_OCUPACAO': 931,\n",
    "  'DS_OCUPACAO': 'ESTUDANTE, BOLSISTA, ESTAGIÁRIO E ASSEMELHADOS',\n",
    "  'VR_DESPESA_MAX_CAMPANHA': 131218.52,\n",
    "  'CD_SIT_TOT_TURNO': 5,\n",
    "  'DS_SIT_TOT_TURNO': 'SUPLENTE',\n",
    "  'ST_REELEICAO': 'N',\n",
    "  'ST_DECLARAR_BENS': 'N',\n",
    "  'NR_PROTOCOLO_CANDIDATURA': -1,\n",
    "  'NR_PROCESSO': 6002695420206170083,\n",
    "  'CD_SITUACAO_CANDIDATO_PLEITO': 2,\n",
    "  'DS_SITUACAO_CANDIDATO_PLEITO': 'DEFERIDO',\n",
    "  'CD_SITUACAO_CANDIDATO_URNA': 2,\n",
    "  'DS_SITUACAO_CANDIDATO_URNA': 'DEFERIDO',\n",
    "  'ST_CANDIDATO_INSERIDO_URNA': 'SIM'},\n",
    " {'DT_GERACAO': '22/05/2021',\n",
    "  'HH_GERACAO': '12:18:46',\n",
    "  'ANO_ELEICAO': 2020,\n",
    "  'CD_TIPO_ELEICAO': 2,\n",
    "  'NM_TIPO_ELEICAO': 'ELEIÇÃO ORDINÁRIA',\n",
    "  'NR_TURNO': 1,\n",
    "  'CD_ELEICAO': 426,\n",
    "  'DS_ELEICAO': 'Eleições Municipais 2020',\n",
    "  'DT_ELEICAO': '15/11/2020',\n",
    "  'TP_ABRANGENCIA': 'MUNICIPAL',\n",
    "  'SG_UF': 'PE',\n",
    "  'SG_UE': 26310,\n",
    "  'NM_UE': 'ABREU E LIMA',\n",
    "  'CD_CARGO': 13,\n",
    "  'DS_CARGO': 'VEREADOR',\n",
    "  'SQ_CANDIDATO': 170001246990,\n",
    "  'NR_CANDIDATO': 27777,\n",
    "  'NM_CANDIDATO': 'SEVERINO ALVES DA SILVA FILHO',\n",
    "  'NM_URNA_CANDIDATO': 'SILVIO',\n",
    "  'NM_SOCIAL_CANDIDATO': '#NULO#',\n",
    "  'NR_CPF_CANDIDATO': 17986117400,\n",
    "  'NM_EMAIL': 'FENAMUDANCA01@GMAIL.COM',\n",
    "  'CD_SITUACAO_CANDIDATURA': 12,\n",
    "  'DS_SITUACAO_CANDIDATURA': 'APTO',\n",
    "  'CD_DETALHE_SITUACAO_CAND': 2,\n",
    "  'DS_DETALHE_SITUACAO_CAND': 'DEFERIDO',\n",
    "  'TP_AGREMIACAO': 'PARTIDO ISOLADO',\n",
    "  'NR_PARTIDO': 27,\n",
    "  'SG_PARTIDO': 'DC',\n",
    "  'NM_PARTIDO': 'DEMOCRACIA CRISTÃ',\n",
    "  'SQ_COLIGACAO': 170000154616,\n",
    "  'NM_COLIGACAO': 'PARTIDO ISOLADO',\n",
    "  'DS_COMPOSICAO_COLIGACAO': 'DC',\n",
    "  'CD_NACIONALIDADE': 1,\n",
    "  'DS_NACIONALIDADE': 'BRASILEIRA NATA',\n",
    "  'SG_UF_NASCIMENTO': 'RJ',\n",
    "  'CD_MUNICIPIO_NASCIMENTO': -3,\n",
    "  'NM_MUNICIPIO_NASCIMENTO': 'RIO DE JANEIRO',\n",
    "  'DT_NASCIMENTO': '25/09/1956',\n",
    "  'NR_IDADE_DATA_POSSE': 64,\n",
    "  'NR_TITULO_ELEITORAL_CANDIDATO': 11232980868,\n",
    "  'CD_GENERO': 2,\n",
    "  'DS_GENERO': 'MASCULINO',\n",
    "  'CD_GRAU_INSTRUCAO': 3,\n",
    "  'DS_GRAU_INSTRUCAO': 'ENSINO FUNDAMENTAL INCOMPLETO',\n",
    "  'CD_ESTADO_CIVIL': 5,\n",
    "  'DS_ESTADO_CIVIL': 'VIÚVO(A)',\n",
    "  'CD_COR_RACA': 3,\n",
    "  'DS_COR_RACA': 'PARDA',\n",
    "  'CD_OCUPACAO': 246,\n",
    "  'DS_OCUPACAO': 'TÉCNICO DE OBRAS CIVIS, ESTRADAS, SANEAMENTO E ASSEMELHADOS',\n",
    "  'VR_DESPESA_MAX_CAMPANHA': 28533.15,\n",
    "  'CD_SIT_TOT_TURNO': 4,\n",
    "  'DS_SIT_TOT_TURNO': 'NÃO ELEITO',\n",
    "  'ST_REELEICAO': 'N',\n",
    "  'ST_DECLARAR_BENS': 'S',\n",
    "  'NR_PROTOCOLO_CANDIDATURA': -1,\n",
    "  'NR_PROCESSO': 6003620620206170119,\n",
    "  'CD_SITUACAO_CANDIDATO_PLEITO': 2,\n",
    "  'DS_SITUACAO_CANDIDATO_PLEITO': 'DEFERIDO',\n",
    "  'CD_SITUACAO_CANDIDATO_URNA': 2,\n",
    "  'DS_SITUACAO_CANDIDATO_URNA': 'DEFERIDO',\n",
    "  'ST_CANDIDATO_INSERIDO_URNA': 'SIM'},\n",
    " {'DT_GERACAO': '22/05/2021',\n",
    "  'HH_GERACAO': '12:18:46',\n",
    "  'ANO_ELEICAO': 2020,\n",
    "  'CD_TIPO_ELEICAO': 2,\n",
    "  'NM_TIPO_ELEICAO': 'ELEIÇÃO ORDINÁRIA',\n",
    "  'NR_TURNO': 1,\n",
    "  'CD_ELEICAO': 426,\n",
    "  'DS_ELEICAO': 'Eleições Municipais 2020',\n",
    "  'DT_ELEICAO': '15/11/2020',\n",
    "  'TP_ABRANGENCIA': 'MUNICIPAL',\n",
    "  'SG_UF': 'PE',\n",
    "  'SG_UE': 23086,\n",
    "  'NM_UE': 'VERTENTE DO LÉRIO',\n",
    "  'CD_CARGO': 13,\n",
    "  'DS_CARGO': 'VEREADOR',\n",
    "  'SQ_CANDIDATO': 170000971541,\n",
    "  'NR_CANDIDATO': 14555,\n",
    "  'NM_CANDIDATO': 'SEVERINO DA SILVA NASCIMENTO',\n",
    "  'NM_URNA_CANDIDATO': 'SEVERINO DO POVO',\n",
    "  'NM_SOCIAL_CANDIDATO': '#NULO#',\n",
    "  'NR_CPF_CANDIDATO': 2541370407,\n",
    "  'NM_EMAIL': 'JOSILEAL@BOL.COM.BR',\n",
    "  'CD_SITUACAO_CANDIDATURA': 12,\n",
    "  'DS_SITUACAO_CANDIDATURA': 'APTO',\n",
    "  'CD_DETALHE_SITUACAO_CAND': 2,\n",
    "  'DS_DETALHE_SITUACAO_CAND': 'DEFERIDO',\n",
    "  'TP_AGREMIACAO': 'PARTIDO ISOLADO',\n",
    "  'NR_PARTIDO': 14,\n",
    "  'SG_PARTIDO': 'PTB',\n",
    "  'NM_PARTIDO': 'PARTIDO TRABALHISTA BRASILEIRO',\n",
    "  'SQ_COLIGACAO': 170000113103,\n",
    "  'NM_COLIGACAO': 'PARTIDO ISOLADO',\n",
    "  'DS_COMPOSICAO_COLIGACAO': 'PTB',\n",
    "  'CD_NACIONALIDADE': 1,\n",
    "  'DS_NACIONALIDADE': 'BRASILEIRA NATA',\n",
    "  'SG_UF_NASCIMENTO': 'PE',\n",
    "  'CD_MUNICIPIO_NASCIMENTO': -3,\n",
    "  'NM_MUNICIPIO_NASCIMENTO': 'VERTENTE DO LÉRIO',\n",
    "  'DT_NASCIMENTO': '10/12/1976',\n",
    "  'NR_IDADE_DATA_POSSE': 44,\n",
    "  'NR_TITULO_ELEITORAL_CANDIDATO': 48234550892,\n",
    "  'CD_GENERO': 2,\n",
    "  'DS_GENERO': 'MASCULINO',\n",
    "  'CD_GRAU_INSTRUCAO': 4,\n",
    "  'DS_GRAU_INSTRUCAO': 'ENSINO FUNDAMENTAL COMPLETO',\n",
    "  'CD_ESTADO_CIVIL': 3,\n",
    "  'DS_ESTADO_CIVIL': 'CASADO(A)',\n",
    "  'CD_COR_RACA': 3,\n",
    "  'DS_COR_RACA': 'PARDA',\n",
    "  'CD_OCUPACAO': 999,\n",
    "  'DS_OCUPACAO': 'OUTROS',\n",
    "  'VR_DESPESA_MAX_CAMPANHA': 12307.75,\n",
    "  'CD_SIT_TOT_TURNO': 2,\n",
    "  'DS_SIT_TOT_TURNO': 'ELEITO POR QP',\n",
    "  'ST_REELEICAO': 'N',\n",
    "  'ST_DECLARAR_BENS': 'S',\n",
    "  'NR_PROTOCOLO_CANDIDATURA': -1,\n",
    "  'NR_PROCESSO': 6002560820206170034,\n",
    "  'CD_SITUACAO_CANDIDATO_PLEITO': 2,\n",
    "  'DS_SITUACAO_CANDIDATO_PLEITO': 'DEFERIDO',\n",
    "  'CD_SITUACAO_CANDIDATO_URNA': 2,\n",
    "  'DS_SITUACAO_CANDIDATO_URNA': 'DEFERIDO',\n",
    "  'ST_CANDIDATO_INSERIDO_URNA': 'SIM'},\n",
    " {'DT_GERACAO': '22/05/2021',\n",
    "  'HH_GERACAO': '12:18:46',\n",
    "  'ANO_ELEICAO': 2020,\n",
    "  'CD_TIPO_ELEICAO': 2,\n",
    "  'NM_TIPO_ELEICAO': 'ELEIÇÃO ORDINÁRIA',\n",
    "  'NR_TURNO': 1,\n",
    "  'CD_ELEICAO': 426,\n",
    "  'DS_ELEICAO': 'Eleições Municipais 2020',\n",
    "  'DT_ELEICAO': '15/11/2020',\n",
    "  'TP_ABRANGENCIA': 'MUNICIPAL',\n",
    "  'SG_UF': 'PE',\n",
    "  'SG_UE': 24554,\n",
    "  'NM_UE': 'ITAQUITINGA',\n",
    "  'CD_CARGO': 13,\n",
    "  'DS_CARGO': 'VEREADOR',\n",
    "  'SQ_CANDIDATO': 170000990967,\n",
    "  'NR_CANDIDATO': 10456,\n",
    "  'NM_CANDIDATO': 'MARTA MARIA LEMOS DA SILVA',\n",
    "  'NM_URNA_CANDIDATO': 'MARTA LEMOS',\n",
    "  'NM_SOCIAL_CANDIDATO': '#NULO#',\n",
    "  'NR_CPF_CANDIDATO': 42672481415,\n",
    "  'NM_EMAIL': 'LUANMARTINSCASTRO@GMAIL.COM',\n",
    "  'CD_SITUACAO_CANDIDATURA': 12,\n",
    "  'DS_SITUACAO_CANDIDATURA': 'APTO',\n",
    "  'CD_DETALHE_SITUACAO_CAND': 2,\n",
    "  'DS_DETALHE_SITUACAO_CAND': 'DEFERIDO',\n",
    "  'TP_AGREMIACAO': 'PARTIDO ISOLADO',\n",
    "  'NR_PARTIDO': 10,\n",
    "  'SG_PARTIDO': 'REPUBLICANOS',\n",
    "  'NM_PARTIDO': 'REPUBLICANOS',\n",
    "  'SQ_COLIGACAO': 170000116162,\n",
    "  'NM_COLIGACAO': 'PARTIDO ISOLADO',\n",
    "  'DS_COMPOSICAO_COLIGACAO': 'REPUBLICANOS',\n",
    "  'CD_NACIONALIDADE': 1,\n",
    "  'DS_NACIONALIDADE': 'BRASILEIRA NATA',\n",
    "  'SG_UF_NASCIMENTO': 'PE',\n",
    "  'CD_MUNICIPIO_NASCIMENTO': -3,\n",
    "  'NM_MUNICIPIO_NASCIMENTO': 'GOIANA',\n",
    "  'DT_NASCIMENTO': '07/09/1957',\n",
    "  'NR_IDADE_DATA_POSSE': 63,\n",
    "  'NR_TITULO_ELEITORAL_CANDIDATO': 34202470817,\n",
    "  'CD_GENERO': 4,\n",
    "  'DS_GENERO': 'FEMININO',\n",
    "  'CD_GRAU_INSTRUCAO': 6,\n",
    "  'DS_GRAU_INSTRUCAO': 'ENSINO MÉDIO COMPLETO',\n",
    "  'CD_ESTADO_CIVIL': 3,\n",
    "  'DS_ESTADO_CIVIL': 'CASADO(A)',\n",
    "  'CD_COR_RACA': 1,\n",
    "  'DS_COR_RACA': 'BRANCA',\n",
    "  'CD_OCUPACAO': 999,\n",
    "  'DS_OCUPACAO': 'OUTROS',\n",
    "  'VR_DESPESA_MAX_CAMPANHA': 12307.75,\n",
    "  'CD_SIT_TOT_TURNO': 5,\n",
    "  'DS_SIT_TOT_TURNO': 'SUPLENTE',\n",
    "  'ST_REELEICAO': 'N',\n",
    "  'ST_DECLARAR_BENS': 'S',\n",
    "  'NR_PROTOCOLO_CANDIDATURA': -1,\n",
    "  'NR_PROCESSO': 6003827620206170125,\n",
    "  'CD_SITUACAO_CANDIDATO_PLEITO': 2,\n",
    "  'DS_SITUACAO_CANDIDATO_PLEITO': 'DEFERIDO',\n",
    "  'CD_SITUACAO_CANDIDATO_URNA': 2,\n",
    "  'DS_SITUACAO_CANDIDATO_URNA': 'DEFERIDO',\n",
    "  'ST_CANDIDATO_INSERIDO_URNA': 'SIM'},\n",
    " {'DT_GERACAO': '22/05/2021',\n",
    "  'HH_GERACAO': '12:18:46',\n",
    "  'ANO_ELEICAO': 2020,\n",
    "  'CD_TIPO_ELEICAO': 2,\n",
    "  'NM_TIPO_ELEICAO': 'ELEIÇÃO ORDINÁRIA',\n",
    "  'NR_TURNO': 1,\n",
    "  'CD_ELEICAO': 426,\n",
    "  'DS_ELEICAO': 'Eleições Municipais 2020',\n",
    "  'DT_ELEICAO': '15/11/2020',\n",
    "  'TP_ABRANGENCIA': 'MUNICIPAL',\n",
    "  'SG_UF': 'PE',\n",
    "  'SG_UE': 23264,\n",
    "  'NM_UE': 'JATOBÁ',\n",
    "  'CD_CARGO': 13,\n",
    "  'DS_CARGO': 'VEREADOR',\n",
    "  'SQ_CANDIDATO': 170000657782,\n",
    "  'NR_CANDIDATO': 17777,\n",
    "  'NM_CANDIDATO': 'SEBASTIÃO DA COSTA COELHO',\n",
    "  'NM_URNA_CANDIDATO': 'SEBASTIÃO COSTA',\n",
    "  'NM_SOCIAL_CANDIDATO': '#NULO#',\n",
    "  'NR_CPF_CANDIDATO': 13521691420,\n",
    "  'NM_EMAIL': 'PSLJATOBA17@GMAIL.COM',\n",
    "  'CD_SITUACAO_CANDIDATURA': 12,\n",
    "  'DS_SITUACAO_CANDIDATURA': 'APTO',\n",
    "  'CD_DETALHE_SITUACAO_CAND': 2,\n",
    "  'DS_DETALHE_SITUACAO_CAND': 'DEFERIDO',\n",
    "  'TP_AGREMIACAO': 'PARTIDO ISOLADO',\n",
    "  'NR_PARTIDO': 17,\n",
    "  'SG_PARTIDO': 'PSL',\n",
    "  'NM_PARTIDO': 'PARTIDO SOCIAL LIBERAL',\n",
    "  'SQ_COLIGACAO': 170000058640,\n",
    "  'NM_COLIGACAO': 'PARTIDO ISOLADO',\n",
    "  'DS_COMPOSICAO_COLIGACAO': 'PSL',\n",
    "  'CD_NACIONALIDADE': 1,\n",
    "  'DS_NACIONALIDADE': 'BRASILEIRA NATA',\n",
    "  'SG_UF_NASCIMENTO': 'PE',\n",
    "  'CD_MUNICIPIO_NASCIMENTO': -3,\n",
    "  'NM_MUNICIPIO_NASCIMENTO': 'PETROLÂNDIA',\n",
    "  'DT_NASCIMENTO': '22/01/1953',\n",
    "  'NR_IDADE_DATA_POSSE': 67,\n",
    "  'NR_TITULO_ELEITORAL_CANDIDATO': 20067470809,\n",
    "  'CD_GENERO': 2,\n",
    "  'DS_GENERO': 'MASCULINO',\n",
    "  'CD_GRAU_INSTRUCAO': 6,\n",
    "  'DS_GRAU_INSTRUCAO': 'ENSINO MÉDIO COMPLETO',\n",
    "  'CD_ESTADO_CIVIL': 3,\n",
    "  'DS_ESTADO_CIVIL': 'CASADO(A)',\n",
    "  'CD_COR_RACA': 1,\n",
    "  'DS_COR_RACA': 'BRANCA',\n",
    "  'CD_OCUPACAO': 923,\n",
    "  'DS_OCUPACAO': 'APOSENTADO (EXCETO SERVIDOR PÚBLICO)',\n",
    "  'VR_DESPESA_MAX_CAMPANHA': 12307.75,\n",
    "  'CD_SIT_TOT_TURNO': 4,\n",
    "  'DS_SIT_TOT_TURNO': 'NÃO ELEITO',\n",
    "  'ST_REELEICAO': 'N',\n",
    "  'ST_DECLARAR_BENS': 'S',\n",
    "  'NR_PROTOCOLO_CANDIDATURA': -1,\n",
    "  'NR_PROCESSO': 6000476820206170089,\n",
    "  'CD_SITUACAO_CANDIDATO_PLEITO': 2,\n",
    "  'DS_SITUACAO_CANDIDATO_PLEITO': 'DEFERIDO',\n",
    "  'CD_SITUACAO_CANDIDATO_URNA': 2,\n",
    "  'DS_SITUACAO_CANDIDATO_URNA': 'DEFERIDO',\n",
    "  'ST_CANDIDATO_INSERIDO_URNA': 'SIM'},\n",
    " {'DT_GERACAO': '22/05/2021',\n",
    "  'HH_GERACAO': '12:18:46',\n",
    "  'ANO_ELEICAO': 2020,\n",
    "  'CD_TIPO_ELEICAO': 2,\n",
    "  'NM_TIPO_ELEICAO': 'ELEIÇÃO ORDINÁRIA',\n",
    "  'NR_TURNO': 1,\n",
    "  'CD_ELEICAO': 426,\n",
    "  'DS_ELEICAO': 'Eleições Municipais 2020',\n",
    "  'DT_ELEICAO': '15/11/2020',\n",
    "  'TP_ABRANGENCIA': 'MUNICIPAL',\n",
    "  'SG_UF': 'PE',\n",
    "  'SG_UE': 25216,\n",
    "  'NM_UE': 'PETROLINA',\n",
    "  'CD_CARGO': 13,\n",
    "  'DS_CARGO': 'VEREADOR',\n",
    "  'SQ_CANDIDATO': 170001179423,\n",
    "  'NR_CANDIDATO': 17222,\n",
    "  'NM_CANDIDATO': 'DÁRIO CÉSAR MOREIRA',\n",
    "  'NM_URNA_CANDIDATO': 'DÁRIO MORORÓ',\n",
    "  'NM_SOCIAL_CANDIDATO': '#NULO#',\n",
    "  'NR_CPF_CANDIDATO': 7141808400,\n",
    "  'NM_EMAIL': 'DARIOMORORO@GMAIL.COM',\n",
    "  'CD_SITUACAO_CANDIDATURA': 12,\n",
    "  'DS_SITUACAO_CANDIDATURA': 'APTO',\n",
    "  'CD_DETALHE_SITUACAO_CAND': 2,\n",
    "  'DS_DETALHE_SITUACAO_CAND': 'DEFERIDO',\n",
    "  'TP_AGREMIACAO': 'PARTIDO ISOLADO',\n",
    "  'NR_PARTIDO': 17,\n",
    "  'SG_PARTIDO': 'PSL',\n",
    "  'NM_PARTIDO': 'PARTIDO SOCIAL LIBERAL',\n",
    "  'SQ_COLIGACAO': 170000145155,\n",
    "  'NM_COLIGACAO': 'PARTIDO ISOLADO',\n",
    "  'DS_COMPOSICAO_COLIGACAO': 'PSL',\n",
    "  'CD_NACIONALIDADE': 1,\n",
    "  'DS_NACIONALIDADE': 'BRASILEIRA NATA',\n",
    "  'SG_UF_NASCIMENTO': 'PE',\n",
    "  'CD_MUNICIPIO_NASCIMENTO': -3,\n",
    "  'NM_MUNICIPIO_NASCIMENTO': 'SERRA TALHADA',\n",
    "  'DT_NASCIMENTO': '27/09/1989',\n",
    "  'NR_IDADE_DATA_POSSE': 31,\n",
    "  'NR_TITULO_ELEITORAL_CANDIDATO': 74125090850,\n",
    "  'CD_GENERO': 2,\n",
    "  'DS_GENERO': 'MASCULINO',\n",
    "  'CD_GRAU_INSTRUCAO': 6,\n",
    "  'DS_GRAU_INSTRUCAO': 'ENSINO MÉDIO COMPLETO',\n",
    "  'CD_ESTADO_CIVIL': 3,\n",
    "  'DS_ESTADO_CIVIL': 'CASADO(A)',\n",
    "  'CD_COR_RACA': 3,\n",
    "  'DS_COR_RACA': 'PARDA',\n",
    "  'CD_OCUPACAO': 601,\n",
    "  'DS_OCUPACAO': 'AGRICULTOR',\n",
    "  'VR_DESPESA_MAX_CAMPANHA': 131218.52,\n",
    "  'CD_SIT_TOT_TURNO': 4,\n",
    "  'DS_SIT_TOT_TURNO': 'NÃO ELEITO',\n",
    "  'ST_REELEICAO': 'N',\n",
    "  'ST_DECLARAR_BENS': 'S',\n",
    "  'NR_PROTOCOLO_CANDIDATURA': -1,\n",
    "  'NR_PROCESSO': 6004176520206170083,\n",
    "  'CD_SITUACAO_CANDIDATO_PLEITO': 2,\n",
    "  'DS_SITUACAO_CANDIDATO_PLEITO': 'DEFERIDO',\n",
    "  'CD_SITUACAO_CANDIDATO_URNA': 2,\n",
    "  'DS_SITUACAO_CANDIDATO_URNA': 'DEFERIDO',\n",
    "  'ST_CANDIDATO_INSERIDO_URNA': 'SIM'},\n",
    " {'DT_GERACAO': '22/05/2021',\n",
    "  'HH_GERACAO': '12:18:46',\n",
    "  'ANO_ELEICAO': 2020,\n",
    "  'CD_TIPO_ELEICAO': 2,\n",
    "  'NM_TIPO_ELEICAO': 'ELEIÇÃO ORDINÁRIA',\n",
    "  'NR_TURNO': 1,\n",
    "  'CD_ELEICAO': 426,\n",
    "  'DS_ELEICAO': 'Eleições Municipais 2020',\n",
    "  'DT_ELEICAO': '15/11/2020',\n",
    "  'TP_ABRANGENCIA': 'MUNICIPAL',\n",
    "  'SG_UF': 'PE',\n",
    "  'SG_UE': 24350,\n",
    "  'NM_UE': 'IGARASSU',\n",
    "  'CD_CARGO': 13,\n",
    "  'DS_CARGO': 'VEREADOR',\n",
    "  'SQ_CANDIDATO': 170000944712,\n",
    "  'NR_CANDIDATO': 65455,\n",
    "  'NM_CANDIDATO': 'COSME CORDEIRO PAULINO',\n",
    "  'NM_URNA_CANDIDATO': 'COSME DOS MARCOS',\n",
    "  'NM_SOCIAL_CANDIDATO': '#NULO#',\n",
    "  'NR_CPF_CANDIDATO': 59259310415,\n",
    "  'NM_EMAIL': 'RCBUARQUE@GMAIL.COM',\n",
    "  'CD_SITUACAO_CANDIDATURA': 12,\n",
    "  'DS_SITUACAO_CANDIDATURA': 'APTO',\n",
    "  'CD_DETALHE_SITUACAO_CAND': 2,\n",
    "  'DS_DETALHE_SITUACAO_CAND': 'DEFERIDO',\n",
    "  'TP_AGREMIACAO': 'PARTIDO ISOLADO',\n",
    "  'NR_PARTIDO': 65,\n",
    "  'SG_PARTIDO': 'PC do B',\n",
    "  'NM_PARTIDO': 'PARTIDO COMUNISTA DO BRASIL',\n",
    "  'SQ_COLIGACAO': 170000109245,\n",
    "  'NM_COLIGACAO': 'PARTIDO ISOLADO',\n",
    "  'DS_COMPOSICAO_COLIGACAO': 'PC do B',\n",
    "  'CD_NACIONALIDADE': 1,\n",
    "  'DS_NACIONALIDADE': 'BRASILEIRA NATA',\n",
    "  'SG_UF_NASCIMENTO': 'PE',\n",
    "  'CD_MUNICIPIO_NASCIMENTO': -3,\n",
    "  'NM_MUNICIPIO_NASCIMENTO': 'IGARASSU',\n",
    "  'DT_NASCIMENTO': '27/07/1964',\n",
    "  'NR_IDADE_DATA_POSSE': 56,\n",
    "  'NR_TITULO_ELEITORAL_CANDIDATO': 23349670809,\n",
    "  'CD_GENERO': 2,\n",
    "  'DS_GENERO': 'MASCULINO',\n",
    "  'CD_GRAU_INSTRUCAO': 4,\n",
    "  'DS_GRAU_INSTRUCAO': 'ENSINO FUNDAMENTAL COMPLETO',\n",
    "  'CD_ESTADO_CIVIL': 3,\n",
    "  'DS_ESTADO_CIVIL': 'CASADO(A)',\n",
    "  'CD_COR_RACA': 3,\n",
    "  'DS_COR_RACA': 'PARDA',\n",
    "  'CD_OCUPACAO': 169,\n",
    "  'DS_OCUPACAO': 'COMERCIANTE',\n",
    "  'VR_DESPESA_MAX_CAMPANHA': 39466.41,\n",
    "  'CD_SIT_TOT_TURNO': 5,\n",
    "  'DS_SIT_TOT_TURNO': 'SUPLENTE',\n",
    "  'ST_REELEICAO': 'N',\n",
    "  'ST_DECLARAR_BENS': 'S',\n",
    "  'NR_PROTOCOLO_CANDIDATURA': -1,\n",
    "  'NR_PROCESSO': 6002772520206170085,\n",
    "  'CD_SITUACAO_CANDIDATO_PLEITO': 2,\n",
    "  'DS_SITUACAO_CANDIDATO_PLEITO': 'DEFERIDO',\n",
    "  'CD_SITUACAO_CANDIDATO_URNA': 2,\n",
    "  'DS_SITUACAO_CANDIDATO_URNA': 'DEFERIDO',\n",
    "  'ST_CANDIDATO_INSERIDO_URNA': 'SIM'},\n",
    " {'DT_GERACAO': '22/05/2021',\n",
    "  'HH_GERACAO': '12:18:46',\n",
    "  'ANO_ELEICAO': 2020,\n",
    "  'CD_TIPO_ELEICAO': 2,\n",
    "  'NM_TIPO_ELEICAO': 'ELEIÇÃO ORDINÁRIA',\n",
    "  'NR_TURNO': 1,\n",
    "  'CD_ELEICAO': 426,\n",
    "  'DS_ELEICAO': 'Eleições Municipais 2020',\n",
    "  'DT_ELEICAO': '15/11/2020',\n",
    "  'TP_ABRANGENCIA': 'MUNICIPAL',\n",
    "  'SG_UF': 'PE',\n",
    "  'SG_UE': 25615,\n",
    "  'NM_UE': 'SÃO CAITANO',\n",
    "  'CD_CARGO': 13,\n",
    "  'DS_CARGO': 'VEREADOR',\n",
    "  'SQ_CANDIDATO': 170000828281,\n",
    "  'NR_CANDIDATO': 17888,\n",
    "  'NM_CANDIDATO': 'SEVERINO VIEIRA RAMOS NETO',\n",
    "  'NM_URNA_CANDIDATO': 'NETO RAMOS',\n",
    "  'NM_SOCIAL_CANDIDATO': '#NULO#',\n",
    "  'NR_CPF_CANDIDATO': 4198870403,\n",
    "  'NM_EMAIL': 'ANDREDIREITOS@HOTMAIL.COM',\n",
    "  'CD_SITUACAO_CANDIDATURA': 12,\n",
    "  'DS_SITUACAO_CANDIDATURA': 'APTO',\n",
    "  'CD_DETALHE_SITUACAO_CAND': 2,\n",
    "  'DS_DETALHE_SITUACAO_CAND': 'DEFERIDO',\n",
    "  'TP_AGREMIACAO': 'PARTIDO ISOLADO',\n",
    "  'NR_PARTIDO': 17,\n",
    "  'SG_PARTIDO': 'PSL',\n",
    "  'NM_PARTIDO': 'PARTIDO SOCIAL LIBERAL',\n",
    "  'SQ_COLIGACAO': 170000087156,\n",
    "  'NM_COLIGACAO': 'PARTIDO ISOLADO',\n",
    "  'DS_COMPOSICAO_COLIGACAO': 'PSL',\n",
    "  'CD_NACIONALIDADE': 1,\n",
    "  'DS_NACIONALIDADE': 'BRASILEIRA NATA',\n",
    "  'SG_UF_NASCIMENTO': 'PE',\n",
    "  'CD_MUNICIPIO_NASCIMENTO': -3,\n",
    "  'NM_MUNICIPIO_NASCIMENTO': 'BELO JARDIM',\n",
    "  'DT_NASCIMENTO': '19/05/1983',\n",
    "  'NR_IDADE_DATA_POSSE': 37,\n",
    "  'NR_TITULO_ELEITORAL_CANDIDATO': 61604600876,\n",
    "  'CD_GENERO': 2,\n",
    "  'DS_GENERO': 'MASCULINO',\n",
    "  'CD_GRAU_INSTRUCAO': 5,\n",
    "  'DS_GRAU_INSTRUCAO': 'ENSINO MÉDIO INCOMPLETO',\n",
    "  'CD_ESTADO_CIVIL': 3,\n",
    "  'DS_ESTADO_CIVIL': 'CASADO(A)',\n",
    "  'CD_COR_RACA': 3,\n",
    "  'DS_COR_RACA': 'PARDA',\n",
    "  'CD_OCUPACAO': 169,\n",
    "  'DS_OCUPACAO': 'COMERCIANTE',\n",
    "  'VR_DESPESA_MAX_CAMPANHA': 41468.76,\n",
    "  'CD_SIT_TOT_TURNO': 2,\n",
    "  'DS_SIT_TOT_TURNO': 'ELEITO POR QP',\n",
    "  'ST_REELEICAO': 'N',\n",
    "  'ST_DECLARAR_BENS': 'S',\n",
    "  'NR_PROTOCOLO_CANDIDATURA': -1,\n",
    "  'NR_PROCESSO': 6001960520206170044,\n",
    "  'CD_SITUACAO_CANDIDATO_PLEITO': 2,\n",
    "  'DS_SITUACAO_CANDIDATO_PLEITO': 'DEFERIDO',\n",
    "  'CD_SITUACAO_CANDIDATO_URNA': 2,\n",
    "  'DS_SITUACAO_CANDIDATO_URNA': 'DEFERIDO',\n",
    "  'ST_CANDIDATO_INSERIDO_URNA': 'SIM'},\n",
    " {'DT_GERACAO': '22/05/2021',\n",
    "  'HH_GERACAO': '12:18:46',\n",
    "  'ANO_ELEICAO': 2020,\n",
    "  'CD_TIPO_ELEICAO': 2,\n",
    "  'NM_TIPO_ELEICAO': 'ELEIÇÃO ORDINÁRIA',\n",
    "  'NR_TURNO': 1,\n",
    "  'CD_ELEICAO': 426,\n",
    "  'DS_ELEICAO': 'Eleições Municipais 2020',\n",
    "  'DT_ELEICAO': '15/11/2020',\n",
    "  'TP_ABRANGENCIA': 'MUNICIPAL',\n",
    "  'SG_UF': 'PE',\n",
    "  'SG_UE': 24910,\n",
    "  'NM_UE': 'OLINDA',\n",
    "  'CD_CARGO': 13,\n",
    "  'DS_CARGO': 'VEREADOR',\n",
    "  'SQ_CANDIDATO': 170000942736,\n",
    "  'NR_CANDIDATO': 27000,\n",
    "  'NM_CANDIDATO': 'BRUNA RAFAELLA DA SILVA FREITAS',\n",
    "  'NM_URNA_CANDIDATO': 'BRUNA FREITAS',\n",
    "  'NM_SOCIAL_CANDIDATO': '#NULO#',\n",
    "  'NR_CPF_CANDIDATO': 9906778423,\n",
    "  'NM_EMAIL': 'BRUNA.R.FREITAS@BOL.COM.BR',\n",
    "  'CD_SITUACAO_CANDIDATURA': 12,\n",
    "  'DS_SITUACAO_CANDIDATURA': 'APTO',\n",
    "  'CD_DETALHE_SITUACAO_CAND': 2,\n",
    "  'DS_DETALHE_SITUACAO_CAND': 'DEFERIDO',\n",
    "  'TP_AGREMIACAO': 'PARTIDO ISOLADO',\n",
    "  'NR_PARTIDO': 27,\n",
    "  'SG_PARTIDO': 'DC',\n",
    "  'NM_PARTIDO': 'DEMOCRACIA CRISTÃ',\n",
    "  'SQ_COLIGACAO': 170000108952,\n",
    "  'NM_COLIGACAO': 'PARTIDO ISOLADO',\n",
    "  'DS_COMPOSICAO_COLIGACAO': 'DC',\n",
    "  'CD_NACIONALIDADE': 1,\n",
    "  'DS_NACIONALIDADE': 'BRASILEIRA NATA',\n",
    "  'SG_UF_NASCIMENTO': 'PE',\n",
    "  'CD_MUNICIPIO_NASCIMENTO': -3,\n",
    "  'NM_MUNICIPIO_NASCIMENTO': 'MORENO',\n",
    "  'DT_NASCIMENTO': '28/08/1991',\n",
    "  'NR_IDADE_DATA_POSSE': 29,\n",
    "  'NR_TITULO_ELEITORAL_CANDIDATO': 81203280841,\n",
    "  'CD_GENERO': 4,\n",
    "  'DS_GENERO': 'FEMININO',\n",
    "  'CD_GRAU_INSTRUCAO': 6,\n",
    "  'DS_GRAU_INSTRUCAO': 'ENSINO MÉDIO COMPLETO',\n",
    "  'CD_ESTADO_CIVIL': 3,\n",
    "  'DS_ESTADO_CIVIL': 'CASADO(A)',\n",
    "  'CD_COR_RACA': 3,\n",
    "  'DS_COR_RACA': 'PARDA',\n",
    "  'CD_OCUPACAO': 999,\n",
    "  'DS_OCUPACAO': 'OUTROS',\n",
    "  'VR_DESPESA_MAX_CAMPANHA': 105385.98,\n",
    "  'CD_SIT_TOT_TURNO': 4,\n",
    "  'DS_SIT_TOT_TURNO': 'NÃO ELEITO',\n",
    "  'ST_REELEICAO': 'N',\n",
    "  'ST_DECLARAR_BENS': 'S',\n",
    "  'NR_PROTOCOLO_CANDIDATURA': -1,\n",
    "  'NR_PROCESSO': 6003347420206170010,\n",
    "  'CD_SITUACAO_CANDIDATO_PLEITO': 2,\n",
    "  'DS_SITUACAO_CANDIDATO_PLEITO': 'DEFERIDO',\n",
    "  'CD_SITUACAO_CANDIDATO_URNA': 2,\n",
    "  'DS_SITUACAO_CANDIDATO_URNA': 'DEFERIDO',\n",
    "  'ST_CANDIDATO_INSERIDO_URNA': 'SIM'},\n",
    " {'DT_GERACAO': '22/05/2021',\n",
    "  'HH_GERACAO': '12:18:46',\n",
    "  'ANO_ELEICAO': 2020,\n",
    "  'CD_TIPO_ELEICAO': 2,\n",
    "  'NM_TIPO_ELEICAO': 'ELEIÇÃO ORDINÁRIA',\n",
    "  'NR_TURNO': 1,\n",
    "  'CD_ELEICAO': 426,\n",
    "  'DS_ELEICAO': 'Eleições Municipais 2020',\n",
    "  'DT_ELEICAO': '15/11/2020',\n",
    "  'TP_ABRANGENCIA': 'MUNICIPAL',\n",
    "  'SG_UF': 'PE',\n",
    "  'SG_UE': 23795,\n",
    "  'NM_UE': 'CARPINA',\n",
    "  'CD_CARGO': 13,\n",
    "  'DS_CARGO': 'VEREADOR',\n",
    "  'SQ_CANDIDATO': 170001209832,\n",
    "  'NR_CANDIDATO': 36123,\n",
    "  'NM_CANDIDATO': 'MARIA MADALENA NASCIMENTO DE SOUSA',\n",
    "  'NM_URNA_CANDIDATO': 'IRMÃ MADALENA',\n",
    "  'NM_SOCIAL_CANDIDATO': '#NULO#',\n",
    "  'NR_CPF_CANDIDATO': 35870125472,\n",
    "  'NM_EMAIL': 'BETACRISS_42@HOTMAIL.COM',\n",
    "  'CD_SITUACAO_CANDIDATURA': 12,\n",
    "  'DS_SITUACAO_CANDIDATURA': 'APTO',\n",
    "  'CD_DETALHE_SITUACAO_CAND': 2,\n",
    "  'DS_DETALHE_SITUACAO_CAND': 'DEFERIDO',\n",
    "  'TP_AGREMIACAO': 'PARTIDO ISOLADO',\n",
    "  'NR_PARTIDO': 36,\n",
    "  'SG_PARTIDO': 'PTC',\n",
    "  'NM_PARTIDO': 'PARTIDO TRABALHISTA CRISTÃO',\n",
    "  'SQ_COLIGACAO': 170000148880,\n",
    "  'NM_COLIGACAO': 'PARTIDO ISOLADO',\n",
    "  'DS_COMPOSICAO_COLIGACAO': 'PTC',\n",
    "  'CD_NACIONALIDADE': 1,\n",
    "  'DS_NACIONALIDADE': 'BRASILEIRA NATA',\n",
    "  'SG_UF_NASCIMENTO': 'PE',\n",
    "  'CD_MUNICIPIO_NASCIMENTO': -3,\n",
    "  'NM_MUNICIPIO_NASCIMENTO': 'TIMBAÚBA',\n",
    "  'DT_NASCIMENTO': '14/05/1958',\n",
    "  'NR_IDADE_DATA_POSSE': 62,\n",
    "  'NR_TITULO_ELEITORAL_CANDIDATO': 8997220850,\n",
    "  'CD_GENERO': 4,\n",
    "  'DS_GENERO': 'FEMININO',\n",
    "  'CD_GRAU_INSTRUCAO': 8,\n",
    "  'DS_GRAU_INSTRUCAO': 'SUPERIOR COMPLETO',\n",
    "  'CD_ESTADO_CIVIL': 3,\n",
    "  'DS_ESTADO_CIVIL': 'CASADO(A)',\n",
    "  'CD_COR_RACA': 3,\n",
    "  'DS_COR_RACA': 'PARDA',\n",
    "  'CD_OCUPACAO': 296,\n",
    "  'DS_OCUPACAO': 'SERVIDOR PÚBLICO FEDERAL',\n",
    "  'VR_DESPESA_MAX_CAMPANHA': 49954.88,\n",
    "  'CD_SIT_TOT_TURNO': 5,\n",
    "  'DS_SIT_TOT_TURNO': 'SUPLENTE',\n",
    "  'ST_REELEICAO': 'N',\n",
    "  'ST_DECLARAR_BENS': 'S',\n",
    "  'NR_PROTOCOLO_CANDIDATURA': -1,\n",
    "  'NR_PROCESSO': 6002296720206170020,\n",
    "  'CD_SITUACAO_CANDIDATO_PLEITO': 2,\n",
    "  'DS_SITUACAO_CANDIDATO_PLEITO': 'DEFERIDO',\n",
    "  'CD_SITUACAO_CANDIDATO_URNA': 2,\n",
    "  'DS_SITUACAO_CANDIDATO_URNA': 'DEFERIDO',\n",
    "  'ST_CANDIDATO_INSERIDO_URNA': 'SIM'},\n",
    "  {'DT_GERACAO': '22/05/2021',\n",
    "  'HH_GERACAO': '12:18:46',\n",
    "  'ANO_ELEICAO': 2020,\n",
    "  'CD_TIPO_ELEICAO': 2,\n",
    "  'NM_TIPO_ELEICAO': 'ELEIÇÃO ORDINÁRIA',\n",
    "  'NR_TURNO': 1,\n",
    "  'CD_ELEICAO': 426,\n",
    "  'DS_ELEICAO': 'Eleições Municipais 2020',\n",
    "  'DT_ELEICAO': '15/11/2020',\n",
    "  'TP_ABRANGENCIA': 'MUNICIPAL',\n",
    "  'SG_UF': 'PE',\n",
    "  'SG_UE': 25216,\n",
    "  'NM_UE': 'PETROLINA',\n",
    "  'CD_CARGO': 13,\n",
    "  'DS_CARGO': 'VEREADOR',\n",
    "  'SQ_CANDIDATO': 170000824939,\n",
    "  'NR_CANDIDATO': 25100,\n",
    "  'NM_CANDIDATO': 'LINELLI ALFREDO BORGA',\n",
    "  'NM_URNA_CANDIDATO': 'DANI PLUS',\n",
    "  'NM_SOCIAL_CANDIDATO': '#NULO#',\n",
    "  'NR_CPF_CANDIDATO': 4670632493,\n",
    "  'NM_EMAIL': 'DANIELE.SEDESDH@GMAIL.COM',\n",
    "  'CD_SITUACAO_CANDIDATURA': 12,\n",
    "  'DS_SITUACAO_CANDIDATURA': 'APTO',\n",
    "  'CD_DETALHE_SITUACAO_CAND': 2,\n",
    "  'DS_DETALHE_SITUACAO_CAND': 'DEFERIDO',\n",
    "  'TP_AGREMIACAO': 'PARTIDO ISOLADO',\n",
    "  'NR_PARTIDO': 25,\n",
    "  'SG_PARTIDO': 'DEM',\n",
    "  'NM_PARTIDO': 'DEMOCRATAS',\n",
    "  'SQ_COLIGACAO': 170000086526,\n",
    "  'NM_COLIGACAO': 'PARTIDO ISOLADO',\n",
    "  'DS_COMPOSICAO_COLIGACAO': 'DEM',\n",
    "  'CD_NACIONALIDADE': 1,\n",
    "  'DS_NACIONALIDADE': 'BRASILEIRA NATA',\n",
    "  'SG_UF_NASCIMENTO': 'BA',\n",
    "  'CD_MUNICIPIO_NASCIMENTO': -3,\n",
    "  'NM_MUNICIPIO_NASCIMENTO': 'JUAZEIRO',\n",
    "  'DT_NASCIMENTO': '01/05/1981',\n",
    "  'NR_IDADE_DATA_POSSE': 46,\n",
    "  'NR_TITULO_ELEITORAL_CANDIDATO': 53652250884,\n",
    "  'CD_GENERO': 4,\n",
    "  'DS_GENERO': 'FEMININO',\n",
    "  'CD_GRAU_INSTRUCAO': 7,\n",
    "  'DS_GRAU_INSTRUCAO': 'SUPERIOR INCOMPLETO',\n",
    "  'CD_ESTADO_CIVIL': 1,\n",
    "  'DS_ESTADO_CIVIL': 'SOLTEIRO(A)',\n",
    "  'CD_COR_RACA': 2,\n",
    "  'DS_COR_RACA': 'PRETA',\n",
    "  'CD_OCUPACAO': 931,\n",
    "  'DS_OCUPACAO': 'ESTUDANTE, BOLSISTA, ESTAGIÁRIO E ASSEMELHADOS',\n",
    "  'VR_DESPESA_MAX_CAMPANHA': 131218.52,\n",
    "  'CD_SIT_TOT_TURNO': 5,\n",
    "  'DS_SIT_TOT_TURNO': 'SUPLENTE',\n",
    "  'ST_REELEICAO': 'N',\n",
    "  'ST_DECLARAR_BENS': 'N',\n",
    "  'NR_PROTOCOLO_CANDIDATURA': -1,\n",
    "  'NR_PROCESSO': 6002695420206170083,\n",
    "  'CD_SITUACAO_CANDIDATO_PLEITO': 2,\n",
    "  'DS_SITUACAO_CANDIDATO_PLEITO': 'DEFERIDO',\n",
    "  'CD_SITUACAO_CANDIDATO_URNA': 2,\n",
    "  'DS_SITUACAO_CANDIDATO_URNA': 'DEFERIDO',\n",
    "  'ST_CANDIDATO_INSERIDO_URNA': 'SIM'},]"
   ]
  },
  {
   "cell_type": "code",
   "execution_count": 19,
   "id": "2f585080",
   "metadata": {},
   "outputs": [],
   "source": [
    "anos_18_24 = []\n",
    "anos_25_34 = []\n",
    "anos_35_44 = []\n",
    "anos_45_54 = []\n",
    "anos_55_64 = []\n",
    "anos_acima_64 = []"
   ]
  },
  {
   "cell_type": "code",
   "execution_count": 20,
   "id": "6ffbaa73",
   "metadata": {},
   "outputs": [],
   "source": [
    "for candidata in candidaturas:\n",
    "    \n",
    "    if candidata['NR_IDADE_DATA_POSSE'] >= 18 and candidata['NR_IDADE_DATA_POSSE'] <= 24:\n",
    "        anos_18_24.append(candidata['NM_CANDIDATO'])\n",
    "    elif candidata['NR_IDADE_DATA_POSSE'] >= 25 and candidata['NR_IDADE_DATA_POSSE'] <= 34:\n",
    "        anos_25_34.append(candidata['NM_CANDIDATO'])\n",
    "    elif candidata['NR_IDADE_DATA_POSSE'] >= 35 and candidata['NR_IDADE_DATA_POSSE'] <= 44:\n",
    "        anos_35_44.append(candidata['NM_CANDIDATO'])\n",
    "    elif candidata['NR_IDADE_DATA_POSSE'] >= 45 and candidata['NR_IDADE_DATA_POSSE'] <= 54:\n",
    "        anos_45_54.append(candidata['NM_CANDIDATO'])\n",
    "    elif candidata['NR_IDADE_DATA_POSSE'] >= 55 and candidata['NR_IDADE_DATA_POSSE'] <= 64:\n",
    "        anos_55_64.append(candidata['NM_CANDIDATO'])\n",
    "    else:\n",
    "        anos_acima_64.append(candidata['NM_CANDIDATO'])"
   ]
  },
  {
   "cell_type": "code",
   "execution_count": 21,
   "id": "26c8df4a",
   "metadata": {},
   "outputs": [
    {
     "name": "stdout",
     "output_type": "stream",
     "text": [
      "Candidaturas por faixa etária:\n",
      "18-24 anos: []\n",
      "25-34 anos: ['DÁRIO CÉSAR MOREIRA', 'BRUNA RAFAELLA DA SILVA FREITAS']\n",
      "35-44 anos: ['DANIELA TAMARA SANTOS SILVA', 'SEVERINO DA SILVA NASCIMENTO', 'SEVERINO VIEIRA RAMOS NETO']\n",
      "45-54 anos: ['LINELLI ALFREDO BORGA']\n",
      "55-64 anos: ['SEVERINO ALVES DA SILVA FILHO', 'MARTA MARIA LEMOS DA SILVA', 'COSME CORDEIRO PAULINO', 'MARIA MADALENA NASCIMENTO DE SOUSA']\n",
      "acima 64 anos: ['SEBASTIÃO DA COSTA COELHO']\n"
     ]
    }
   ],
   "source": [
    "print(f'Candidaturas por faixa etária:')\n",
    "print(f'18-24 anos: {anos_18_24}')\n",
    "print(f'25-34 anos: {anos_25_34}')\n",
    "print(f'35-44 anos: {anos_35_44}')\n",
    "print(f'45-54 anos: {anos_45_54}')\n",
    "print(f'55-64 anos: {anos_55_64}')\n",
    "print(f'acima 64 anos: {anos_acima_64}')"
   ]
  },
  {
   "cell_type": "markdown",
   "id": "931fc3d5",
   "metadata": {},
   "source": [
    "## Usando o mesmo dicionário do exercício anterior. Agrupe as candidaturas em \"feminino\" e \"masculino\" usando a chave \"DS_GENERO\"."
   ]
  },
  {
   "cell_type": "markdown",
   "id": "8d07085c",
   "metadata": {},
   "source": [
    "#### Para esse problema, seria interessante, primeiramente, saber quais sexos existem dentro da lista"
   ]
  },
  {
   "cell_type": "markdown",
   "id": "d11116fa",
   "metadata": {},
   "source": [
    "#### Para isso, podemos criar uma lista chamada \"sexo_candidatos\" e adicionar a ela todos os valores que existem nas chaves 'DS_GENERO' de cada item da lista \"candidaturas\""
   ]
  },
  {
   "cell_type": "code",
   "execution_count": 23,
   "id": "27ffccb1",
   "metadata": {},
   "outputs": [
    {
     "data": {
      "text/plain": [
       "['FEMININO',\n",
       " 'MASCULINO',\n",
       " 'MASCULINO',\n",
       " 'FEMININO',\n",
       " 'MASCULINO',\n",
       " 'MASCULINO',\n",
       " 'MASCULINO',\n",
       " 'MASCULINO',\n",
       " 'FEMININO',\n",
       " 'FEMININO',\n",
       " 'FEMININO']"
      ]
     },
     "execution_count": 23,
     "metadata": {},
     "output_type": "execute_result"
    }
   ],
   "source": [
    "sexo_candidatos = []\n",
    "for sexo in candidaturas:\n",
    "    sexo_candidatos.append(sexo['DS_GENERO'])\n",
    "sexo_candidatos"
   ]
  },
  {
   "cell_type": "markdown",
   "id": "f6695914",
   "metadata": {},
   "source": [
    "#### Sem a abordagem inicial de tentar descobrir em quantas categorias certas variáveis podem ser classificadas, teríamos que partir apenas daquilo que conhecemos - no caso do sexo, que existem apenas 2 - e, com isso, estaríamos correndo o risco de perder algum dado no processo de verificação"
   ]
  },
  {
   "cell_type": "markdown",
   "id": "694af1cc",
   "metadata": {},
   "source": [
    "#### Por isso que no caso abaixo foi necessário criar a variável \"outros\", pois assim conseguimos incluir os dados que não se encaixam nas duas outras categorias"
   ]
  },
  {
   "cell_type": "code",
   "execution_count": 26,
   "id": "4b63cb1a",
   "metadata": {},
   "outputs": [],
   "source": [
    "candidato_masculino = []\n",
    "candidata_feminino = []\n",
    "outros = []"
   ]
  },
  {
   "cell_type": "markdown",
   "id": "6b1ff4e8",
   "metadata": {},
   "source": [
    "#### Outra forma de determinar VALORES ÚNICOS em uma lista é através do tipo de dado SET (conjunto), onde apenas valores exclusivos podem existir. Cria-se um conjunto através do construtor set()"
   ]
  },
  {
   "cell_type": "code",
   "execution_count": 29,
   "id": "c94d376e",
   "metadata": {},
   "outputs": [],
   "source": [
    "conjunto_sexo = set(sexo_candidatos)"
   ]
  },
  {
   "cell_type": "code",
   "execution_count": 30,
   "id": "f9495ca9",
   "metadata": {},
   "outputs": [
    {
     "data": {
      "text/plain": [
       "{'FEMININO', 'MASCULINO'}"
      ]
     },
     "execution_count": 30,
     "metadata": {},
     "output_type": "execute_result"
    }
   ],
   "source": [
    "conjunto_sexo"
   ]
  },
  {
   "cell_type": "code",
   "execution_count": 27,
   "id": "eb3bcf12",
   "metadata": {},
   "outputs": [],
   "source": [
    "for candidato in candidaturas:\n",
    "    \n",
    "    if candidato['DS_GENERO'] == 'FEMININO':\n",
    "        candidata_feminino.append(candidato['NM_CANDIDATO'])\n",
    "    elif candidato['DS_GENERO'] == 'MASCULINO':\n",
    "        candidato_masculino.append(candidato['NM_CANDIDATO'])\n",
    "    else:\n",
    "        outros.append(candidato['NM_CANDIDATO'])"
   ]
  },
  {
   "cell_type": "code",
   "execution_count": 28,
   "id": "f593660b",
   "metadata": {},
   "outputs": [
    {
     "name": "stdout",
     "output_type": "stream",
     "text": [
      "Candidaturas por sexo:\n",
      "Masculino: ['SEVERINO ALVES DA SILVA FILHO', 'SEVERINO DA SILVA NASCIMENTO', 'SEBASTIÃO DA COSTA COELHO', 'DÁRIO CÉSAR MOREIRA', 'COSME CORDEIRO PAULINO', 'SEVERINO VIEIRA RAMOS NETO']\n",
      "Feminino: ['DANIELA TAMARA SANTOS SILVA', 'MARTA MARIA LEMOS DA SILVA', 'BRUNA RAFAELLA DA SILVA FREITAS', 'MARIA MADALENA NASCIMENTO DE SOUSA', 'LINELLI ALFREDO BORGA']\n",
      "Outros: []\n"
     ]
    }
   ],
   "source": [
    "print(f'Candidaturas por sexo:')\n",
    "print(f'Masculino: {candidato_masculino}')\n",
    "print(f'Feminino: {candidata_feminino}')\n",
    "print(f'Outros: {outros}')\n"
   ]
  },
  {
   "cell_type": "code",
   "execution_count": 31,
   "id": "c54c07f6",
   "metadata": {},
   "outputs": [],
   "source": [
    "idades_candidatos = []"
   ]
  },
  {
   "cell_type": "code",
   "execution_count": 32,
   "id": "03c9353e",
   "metadata": {},
   "outputs": [],
   "source": [
    "for idade in candidaturas:\n",
    "    \n",
    "    idades_candidatos.append(idade['NR_IDADE_DATA_POSSE'])"
   ]
  },
  {
   "cell_type": "code",
   "execution_count": 33,
   "id": "3f7c7230",
   "metadata": {},
   "outputs": [
    {
     "data": {
      "text/plain": [
       "[39, 64, 44, 63, 67, 31, 56, 37, 29, 62, 46]"
      ]
     },
     "execution_count": 33,
     "metadata": {},
     "output_type": "execute_result"
    }
   ],
   "source": [
    "idades_candidatos"
   ]
  },
  {
   "cell_type": "markdown",
   "id": "ad7f504f",
   "metadata": {},
   "source": [
    "## Modos de criar um Dicionário"
   ]
  },
  {
   "cell_type": "code",
   "execution_count": 56,
   "id": "93983370",
   "metadata": {},
   "outputs": [
    {
     "data": {
      "text/plain": [
       "{'one': 1, 'two': 2, 'three': 3}"
      ]
     },
     "execution_count": 56,
     "metadata": {},
     "output_type": "execute_result"
    }
   ],
   "source": [
    "a = dict(one=1, two=2, three=3)\n",
    "a"
   ]
  },
  {
   "cell_type": "code",
   "execution_count": 57,
   "id": "c6fbc672",
   "metadata": {},
   "outputs": [
    {
     "data": {
      "text/plain": [
       "{'one': 1, 'two': 2, 'three': 3}"
      ]
     },
     "execution_count": 57,
     "metadata": {},
     "output_type": "execute_result"
    }
   ],
   "source": [
    "b = {'one': 1, 'two': 2, 'three': 3}\n",
    "b"
   ]
  },
  {
   "cell_type": "code",
   "execution_count": 59,
   "id": "ad9278ee",
   "metadata": {},
   "outputs": [
    {
     "data": {
      "text/plain": [
       "{'one': 1, 'two': 2, 'three': 3}"
      ]
     },
     "execution_count": 59,
     "metadata": {},
     "output_type": "execute_result"
    }
   ],
   "source": [
    "c = dict(zip(['one', 'two','three'],[1,2,3]))\n",
    "c"
   ]
  },
  {
   "cell_type": "markdown",
   "id": "4b3125d6",
   "metadata": {},
   "source": [
    "### Operações com dicionários:"
   ]
  },
  {
   "cell_type": "code",
   "execution_count": 61,
   "id": "32eefe8f",
   "metadata": {},
   "outputs": [
    {
     "data": {
      "text/plain": [
       "['one', 'two', 'three']"
      ]
     },
     "execution_count": 61,
     "metadata": {},
     "output_type": "execute_result"
    }
   ],
   "source": [
    "#retorna a lista de todas as chaves utilizadas no dicionário:\n",
    "list(a)"
   ]
  },
  {
   "cell_type": "code",
   "execution_count": 37,
   "id": "01ad2bd4",
   "metadata": {},
   "outputs": [
    {
     "data": {
      "text/plain": [
       "11"
      ]
     },
     "execution_count": 37,
     "metadata": {},
     "output_type": "execute_result"
    }
   ],
   "source": [
    "#retorna o número de itens no dicionário\n",
    "len(candidaturas)\n",
    "#candidaturas é uma lista de dicionários, por isso temos 10 itens"
   ]
  },
  {
   "cell_type": "code",
   "execution_count": 67,
   "id": "0c7b02ed",
   "metadata": {},
   "outputs": [
    {
     "data": {
      "text/plain": [
       "2"
      ]
     },
     "execution_count": 67,
     "metadata": {},
     "output_type": "execute_result"
    }
   ],
   "source": [
    "#retona o valor cadastrado para a chave\n",
    "c['two']"
   ]
  },
  {
   "cell_type": "code",
   "execution_count": 35,
   "id": "204d31e1",
   "metadata": {},
   "outputs": [
    {
     "data": {
      "text/plain": [
       "'SEVERINO ALVES DA SILVA FILHO'"
      ]
     },
     "execution_count": 35,
     "metadata": {},
     "output_type": "execute_result"
    }
   ],
   "source": [
    "candidaturas[1]['NM_CANDIDATO']"
   ]
  },
  {
   "cell_type": "code",
   "execution_count": 40,
   "id": "5e956683",
   "metadata": {},
   "outputs": [
    {
     "name": "stdout",
     "output_type": "stream",
     "text": [
      "[{'DANIELA TAMARA SANTOS SILVA': 'FEMININO'}, {'SEVERINO ALVES DA SILVA FILHO': 'MASCULINO'}, {'SEVERINO DA SILVA NASCIMENTO': 'MASCULINO'}, {'MARTA MARIA LEMOS DA SILVA': 'FEMININO'}, {'SEBASTIÃO DA COSTA COELHO': 'MASCULINO'}, {'DÁRIO CÉSAR MOREIRA': 'MASCULINO'}, {'COSME CORDEIRO PAULINO': 'MASCULINO'}, {'SEVERINO VIEIRA RAMOS NETO': 'MASCULINO'}, {'BRUNA RAFAELLA DA SILVA FREITAS': 'FEMININO'}, {'MARIA MADALENA NASCIMENTO DE SOUSA': 'FEMININO'}, {'LINELLI ALFREDO BORGA': 'FEMININO'}]\n"
     ]
    }
   ],
   "source": [
    "nome_sexo = []\n",
    "for i in range(len(candidaturas)):\n",
    "    lista = dict(zip([candidaturas[i]['NM_CANDIDATO']],[candidaturas[i]['DS_GENERO']]))\n",
    "    nome_sexo.append(lista)\n",
    "print(nome_sexo)\n",
    "    #print(zip([candidaturas[i]['DS_GENERO']],[candidaturas[i]['NR_IDADE_DATA_POSSE']]))"
   ]
  },
  {
   "cell_type": "code",
   "execution_count": 41,
   "id": "e86218de",
   "metadata": {},
   "outputs": [
    {
     "data": {
      "text/plain": [
       "[63, 63, 63, 63, 63, 63, 63, 63, 63, 63, 63]"
      ]
     },
     "execution_count": 41,
     "metadata": {},
     "output_type": "execute_result"
    }
   ],
   "source": [
    "chaves_por_item = []\n",
    "\n",
    "for i in range(len(candidaturas)):\n",
    "    numero_de_chaves = len(candidaturas[i])\n",
    "    chaves_por_item.append(numero_de_chaves)\n",
    "chaves_por_item"
   ]
  },
  {
   "cell_type": "code",
   "execution_count": 42,
   "id": "76187b23",
   "metadata": {},
   "outputs": [
    {
     "data": {
      "text/plain": [
       "[{'Nome': 'DANIELA TAMARA SANTOS SILVA', 'idade': 39, 'Sexo': 'FEMININO'},\n",
       " {'Nome': 'SEVERINO ALVES DA SILVA FILHO', 'idade': 64, 'Sexo': 'MASCULINO'},\n",
       " {'Nome': 'SEVERINO DA SILVA NASCIMENTO', 'idade': 44, 'Sexo': 'MASCULINO'},\n",
       " {'Nome': 'MARTA MARIA LEMOS DA SILVA', 'idade': 63, 'Sexo': 'FEMININO'},\n",
       " {'Nome': 'SEBASTIÃO DA COSTA COELHO', 'idade': 67, 'Sexo': 'MASCULINO'},\n",
       " {'Nome': 'DÁRIO CÉSAR MOREIRA', 'idade': 31, 'Sexo': 'MASCULINO'},\n",
       " {'Nome': 'COSME CORDEIRO PAULINO', 'idade': 56, 'Sexo': 'MASCULINO'},\n",
       " {'Nome': 'SEVERINO VIEIRA RAMOS NETO', 'idade': 37, 'Sexo': 'MASCULINO'},\n",
       " {'Nome': 'BRUNA RAFAELLA DA SILVA FREITAS', 'idade': 29, 'Sexo': 'FEMININO'},\n",
       " {'Nome': 'MARIA MADALENA NASCIMENTO DE SOUSA',\n",
       "  'idade': 62,\n",
       "  'Sexo': 'FEMININO'},\n",
       " {'Nome': 'LINELLI ALFREDO BORGA', 'idade': 46, 'Sexo': 'FEMININO'}]"
      ]
     },
     "execution_count": 42,
     "metadata": {},
     "output_type": "execute_result"
    }
   ],
   "source": [
    "nome_idade_sexo = []\n",
    "\n",
    "for i in range(len(candidaturas)):\n",
    "    \n",
    "    dict_nome_idade_sexo = dict(zip(['Nome', 'idade', 'Sexo'],[candidaturas[i]['NM_CANDIDATO'],candidaturas[i]['NR_IDADE_DATA_POSSE'],candidaturas[i]['DS_GENERO']]))\n",
    "    nome_idade_sexo.append(dict_nome_idade_sexo)\n",
    "nome_idade_sexo"
   ]
  },
  {
   "cell_type": "code",
   "execution_count": 22,
   "id": "842fcc4a",
   "metadata": {},
   "outputs": [
    {
     "data": {
      "text/plain": [
       "[{'Nome': 'DANIELLE', 'idade': 39, 'Sexo': 'FEMININO'},\n",
       " {'Nome': 'SEVERINO ALVES DA SILVA FILHO', 'idade': 64, 'Sexo': 'MASCULINO'},\n",
       " {'Nome': 'SEVERINO DA SILVA NASCIMENTO', 'idade': 44, 'Sexo': 'MASCULINO'},\n",
       " {'Nome': 'MARTA MARIA LEMOS DA SILVA', 'idade': 63, 'Sexo': 'FEMININO'},\n",
       " {'Nome': 'SEBASTIÃO DA COSTA COELHO', 'idade': 67, 'Sexo': 'MASCULINO'},\n",
       " {'Nome': 'DÁRIO CÉSAR MOREIRA', 'idade': 31, 'Sexo': 'MASCULINO'},\n",
       " {'Nome': 'COSME CORDEIRO PAULINO', 'idade': 56, 'Sexo': 'MASCULINO'},\n",
       " {'Nome': 'SEVERINO VIEIRA RAMOS NETO', 'idade': 37, 'Sexo': 'MASCULINO'},\n",
       " {'Nome': 'BRUNA RAFAELLA DA SILVA FREITAS', 'idade': 29, 'Sexo': 'FEMININO'},\n",
       " {'Nome': 'MARIA MADALENA NASCIMENTO DE SOUSA',\n",
       "  'idade': 62,\n",
       "  'Sexo': 'FEMININO'}]"
      ]
     },
     "execution_count": 22,
     "metadata": {},
     "output_type": "execute_result"
    }
   ],
   "source": [
    "nome_idade_sexo[0]['Nome'] = 'DANIELLE'\n",
    "nome_idade_sexo"
   ]
  },
  {
   "cell_type": "code",
   "execution_count": 44,
   "id": "9ac4a512",
   "metadata": {},
   "outputs": [
    {
     "data": {
      "text/plain": [
       "[{'Nome': 'DANIELA TAMARA SANTOS SILVA', 'idade': 39, 'Sexo': 'FEMININO'},\n",
       " {'Nome': 'SEVERINO ALVES DA SILVA FILHO', 'idade': 64, 'Sexo': 'MASCULINO'},\n",
       " {'Nome': 'SEVERINO DA SILVA NASCIMENTO', 'idade': 44, 'Sexo': 'MASCULINO'},\n",
       " {'Nome': 'MARTA MARIA LEMOS DA SILVA', 'idade': 63, 'Sexo': 'FEMININO'},\n",
       " {'Nome': 'SEBASTIÃO DA COSTA COELHO', 'idade': 67, 'Sexo': 'MASCULINO'},\n",
       " {'Nome': 'DÁRIO CÉSAR MOREIRA', 'idade': 31, 'Sexo': 'MASCULINO'},\n",
       " {'Nome': 'COSME CORDEIRO PAULINO', 'idade': 56, 'Sexo': 'MASCULINO'},\n",
       " {'Nome': 'SEVERINO VIEIRA RAMOS NETO', 'idade': 37, 'Sexo': 'MASCULINO'},\n",
       " {'Nome': 'BRUNA RAFAELLA DA SILVA FREITAS', 'idade': 29, 'Sexo': 'FEMININO'},\n",
       " {'Nome': 'MARIA MADALENA NASCIMENTO DE SOUSA',\n",
       "  'idade': 62,\n",
       "  'Sexo': 'FEMININO'},\n",
       " {'Nome': 'LINELLI ALFREDO BORGA', 'idade': 46, 'Sexo': 'FEMININO'}]"
      ]
     },
     "execution_count": 44,
     "metadata": {},
     "output_type": "execute_result"
    }
   ],
   "source": [
    "nome_idade_sexo"
   ]
  },
  {
   "cell_type": "code",
   "execution_count": 3,
   "id": "a876af76",
   "metadata": {},
   "outputs": [
    {
     "data": {
      "text/plain": [
       "['DT_GERACAO',\n",
       " 'HH_GERACAO',\n",
       " 'ANO_ELEICAO',\n",
       " 'CD_TIPO_ELEICAO',\n",
       " 'NM_TIPO_ELEICAO',\n",
       " 'NR_TURNO',\n",
       " 'CD_ELEICAO',\n",
       " 'DS_ELEICAO',\n",
       " 'DT_ELEICAO',\n",
       " 'TP_ABRANGENCIA',\n",
       " 'SG_UF',\n",
       " 'SG_UE',\n",
       " 'NM_UE',\n",
       " 'CD_CARGO',\n",
       " 'DS_CARGO',\n",
       " 'SQ_CANDIDATO',\n",
       " 'NR_CANDIDATO',\n",
       " 'NM_CANDIDATO',\n",
       " 'NM_URNA_CANDIDATO',\n",
       " 'NM_SOCIAL_CANDIDATO',\n",
       " 'NR_CPF_CANDIDATO',\n",
       " 'NM_EMAIL',\n",
       " 'CD_SITUACAO_CANDIDATURA',\n",
       " 'DS_SITUACAO_CANDIDATURA',\n",
       " 'CD_DETALHE_SITUACAO_CAND',\n",
       " 'DS_DETALHE_SITUACAO_CAND',\n",
       " 'TP_AGREMIACAO',\n",
       " 'NR_PARTIDO',\n",
       " 'SG_PARTIDO',\n",
       " 'NM_PARTIDO',\n",
       " 'SQ_COLIGACAO',\n",
       " 'NM_COLIGACAO',\n",
       " 'DS_COMPOSICAO_COLIGACAO',\n",
       " 'CD_NACIONALIDADE',\n",
       " 'DS_NACIONALIDADE',\n",
       " 'SG_UF_NASCIMENTO',\n",
       " 'CD_MUNICIPIO_NASCIMENTO',\n",
       " 'NM_MUNICIPIO_NASCIMENTO',\n",
       " 'DT_NASCIMENTO',\n",
       " 'NR_IDADE_DATA_POSSE',\n",
       " 'NR_TITULO_ELEITORAL_CANDIDATO',\n",
       " 'CD_GENERO',\n",
       " 'DS_GENERO',\n",
       " 'CD_GRAU_INSTRUCAO',\n",
       " 'DS_GRAU_INSTRUCAO',\n",
       " 'CD_ESTADO_CIVIL',\n",
       " 'DS_ESTADO_CIVIL',\n",
       " 'CD_COR_RACA',\n",
       " 'DS_COR_RACA',\n",
       " 'CD_OCUPACAO',\n",
       " 'DS_OCUPACAO',\n",
       " 'VR_DESPESA_MAX_CAMPANHA',\n",
       " 'CD_SIT_TOT_TURNO',\n",
       " 'DS_SIT_TOT_TURNO',\n",
       " 'ST_REELEICAO',\n",
       " 'ST_DECLARAR_BENS',\n",
       " 'NR_PROTOCOLO_CANDIDATURA',\n",
       " 'NR_PROCESSO',\n",
       " 'CD_SITUACAO_CANDIDATO_PLEITO',\n",
       " 'DS_SITUACAO_CANDIDATO_PLEITO',\n",
       " 'CD_SITUACAO_CANDIDATO_URNA',\n",
       " 'DS_SITUACAO_CANDIDATO_URNA',\n",
       " 'ST_CANDIDATO_INSERIDO_URNA']"
      ]
     },
     "execution_count": 3,
     "metadata": {},
     "output_type": "execute_result"
    }
   ],
   "source": [
    "list(candidaturas[0])"
   ]
  },
  {
   "cell_type": "code",
   "execution_count": 7,
   "id": "f3eb3d3c",
   "metadata": {},
   "outputs": [],
   "source": [
    "nome_idade_partido = []"
   ]
  },
  {
   "cell_type": "code",
   "execution_count": 9,
   "id": "5fd4cf42",
   "metadata": {},
   "outputs": [],
   "source": [
    "for i in range(len(candidaturas)):\n",
    "    dict_nome_idade_partido = dict(zip(['Nome', 'Idade', 'Partido', 'Nome do Partido'],[candidaturas[i]['NM_CANDIDATO'],candidaturas[i]['NR_IDADE_DATA_POSSE'],candidaturas[i]['SG_PARTIDO'],candidaturas[i]['NM_PARTIDO']]))\n",
    "    nome_idade_partido.append(dict_nome_idade_partido)"
   ]
  },
  {
   "cell_type": "code",
   "execution_count": 10,
   "id": "ce4e7a06",
   "metadata": {},
   "outputs": [
    {
     "data": {
      "text/plain": [
       "[{'Nome': 'DANIELA TAMARA SANTOS SILVA',\n",
       "  'Idade': 39,\n",
       "  'Partido': 'DEM',\n",
       "  'Nome do Partido': 'DEMOCRATAS'},\n",
       " {'Nome': 'SEVERINO ALVES DA SILVA FILHO',\n",
       "  'Idade': 64,\n",
       "  'Partido': 'DC',\n",
       "  'Nome do Partido': 'DEMOCRACIA CRISTÃ'},\n",
       " {'Nome': 'SEVERINO DA SILVA NASCIMENTO',\n",
       "  'Idade': 44,\n",
       "  'Partido': 'PTB',\n",
       "  'Nome do Partido': 'PARTIDO TRABALHISTA BRASILEIRO'},\n",
       " {'Nome': 'MARTA MARIA LEMOS DA SILVA',\n",
       "  'Idade': 63,\n",
       "  'Partido': 'REPUBLICANOS',\n",
       "  'Nome do Partido': 'REPUBLICANOS'},\n",
       " {'Nome': 'SEBASTIÃO DA COSTA COELHO',\n",
       "  'Idade': 67,\n",
       "  'Partido': 'PSL',\n",
       "  'Nome do Partido': 'PARTIDO SOCIAL LIBERAL'},\n",
       " {'Nome': 'DÁRIO CÉSAR MOREIRA',\n",
       "  'Idade': 31,\n",
       "  'Partido': 'PSL',\n",
       "  'Nome do Partido': 'PARTIDO SOCIAL LIBERAL'},\n",
       " {'Nome': 'COSME CORDEIRO PAULINO',\n",
       "  'Idade': 56,\n",
       "  'Partido': 'PC do B',\n",
       "  'Nome do Partido': 'PARTIDO COMUNISTA DO BRASIL'},\n",
       " {'Nome': 'SEVERINO VIEIRA RAMOS NETO',\n",
       "  'Idade': 37,\n",
       "  'Partido': 'PSL',\n",
       "  'Nome do Partido': 'PARTIDO SOCIAL LIBERAL'},\n",
       " {'Nome': 'BRUNA RAFAELLA DA SILVA FREITAS',\n",
       "  'Idade': 29,\n",
       "  'Partido': 'DC',\n",
       "  'Nome do Partido': 'DEMOCRACIA CRISTÃ'},\n",
       " {'Nome': 'MARIA MADALENA NASCIMENTO DE SOUSA',\n",
       "  'Idade': 62,\n",
       "  'Partido': 'PTC',\n",
       "  'Nome do Partido': 'PARTIDO TRABALHISTA CRISTÃO'}]"
      ]
     },
     "execution_count": 10,
     "metadata": {},
     "output_type": "execute_result"
    }
   ],
   "source": [
    "nome_idade_partido"
   ]
  },
  {
   "cell_type": "code",
   "execution_count": 92,
   "id": "e912e1e8",
   "metadata": {},
   "outputs": [],
   "source": [
    "lista_contagem = ['a','a',['a','b','c','c','d','d','e'],['a','a']]"
   ]
  },
  {
   "cell_type": "code",
   "execution_count": 93,
   "id": "687b391e",
   "metadata": {},
   "outputs": [
    {
     "data": {
      "text/plain": [
       "4"
      ]
     },
     "execution_count": 93,
     "metadata": {},
     "output_type": "execute_result"
    }
   ],
   "source": [
    "leng = len(lista_contagem)\n",
    "leng"
   ]
  },
  {
   "cell_type": "code",
   "execution_count": 94,
   "id": "c94e72c2",
   "metadata": {},
   "outputs": [
    {
     "data": {
      "text/plain": [
       "2"
      ]
     },
     "execution_count": 94,
     "metadata": {},
     "output_type": "execute_result"
    }
   ],
   "source": [
    "lista_contagem.count('a')"
   ]
  },
  {
   "cell_type": "code",
   "execution_count": 95,
   "id": "45bd5028",
   "metadata": {},
   "outputs": [
    {
     "data": {
      "text/plain": [
       "[(0, 'a'), (1, 'a'), (2, ['a', 'b', 'c', 'c', 'd', 'd', 'e']), (3, ['a', 'a'])]"
      ]
     },
     "execution_count": 95,
     "metadata": {},
     "output_type": "execute_result"
    }
   ],
   "source": [
    "list(enumerate(lista_contagem))"
   ]
  }
 ],
 "metadata": {
  "kernelspec": {
   "display_name": "Python 3 (ipykernel)",
   "language": "python",
   "name": "python3"
  },
  "language_info": {
   "codemirror_mode": {
    "name": "ipython",
    "version": 3
   },
   "file_extension": ".py",
   "mimetype": "text/x-python",
   "name": "python",
   "nbconvert_exporter": "python",
   "pygments_lexer": "ipython3",
   "version": "3.9.1"
  }
 },
 "nbformat": 4,
 "nbformat_minor": 5
}
